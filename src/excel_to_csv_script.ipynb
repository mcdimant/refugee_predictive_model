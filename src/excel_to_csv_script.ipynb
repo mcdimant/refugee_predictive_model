{
 "cells": [
  {
   "cell_type": "code",
   "execution_count": null,
   "id": "abstract-field",
   "metadata": {},
   "outputs": [],
   "source": [
    "import pandas as pd\n",
    "from os import listdir"
   ]
  },
  {
   "cell_type": "code",
   "execution_count": null,
   "id": "excess-musical",
   "metadata": {},
   "outputs": [],
   "source": [
    "#outflow_filepaths = [s for s in listdir(\"../data/master/\") if s.endswith('.xlsx')]\n",
    "inflow_filepaths = [i for i in listdir(\"../data/returnees/\") if i.endswith('.xlsx')]"
   ]
  },
  {
   "cell_type": "code",
   "execution_count": null,
   "id": "tight-threshold",
   "metadata": {},
   "outputs": [],
   "source": [
    "def remove_dup_cols(df):\n",
    "    dup_cols = []\n",
    "    for col in df.columns.values:\n",
    "        if '.1' in col:\n",
    "            dup_cols.append(col)\n",
    "        else:\n",
    "            None\n",
    "    out = df.drop(columns=dup_cols, inplace=True)\n",
    "    return out "
   ]
  },
  {
   "cell_type": "code",
   "execution_count": null,
   "id": "hidden-rough",
   "metadata": {},
   "outputs": [],
   "source": [
    "%%time\n",
    "for f in outflow_filepaths:\n",
    "    out_df = pd.read_excel(\"../data/master/\"+f).assign(date=f[31:43]) \n",
    "    remove_dup_cols(out_df)\n",
    "    out_df.to_csv('../data/out/'+str(f)[:-5]+'.csv', encoding='utf-8')"
   ]
  },
  {
   "cell_type": "code",
   "execution_count": null,
   "id": "thrown-competition",
   "metadata": {},
   "outputs": [],
   "source": [
    "%%time\n",
    "for i in inflow_filepaths:\n",
    "    in_df = pd.read_excel(\"../data/returnees/\"+i).assign(date=i[35:47]) \n",
    "    remove_dup_cols(in_df)\n",
    "    in_df.to_csv('../data/inflow/'+str(i)[:-5]+'.csv', encoding='utf-8')"
   ]
  },
  {
   "cell_type": "code",
   "execution_count": null,
   "id": "activated-timer",
   "metadata": {},
   "outputs": [],
   "source": []
  }
 ],
 "metadata": {
  "kernelspec": {
   "display_name": "Python 3",
   "language": "python",
   "name": "python3"
  },
  "language_info": {
   "codemirror_mode": {
    "name": "ipython",
    "version": 3
   },
   "file_extension": ".py",
   "mimetype": "text/x-python",
   "name": "python",
   "nbconvert_exporter": "python",
   "pygments_lexer": "ipython3",
   "version": "3.9.1"
  }
 },
 "nbformat": 4,
 "nbformat_minor": 5
}
