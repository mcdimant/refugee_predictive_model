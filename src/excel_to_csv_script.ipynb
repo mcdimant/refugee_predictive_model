{
 "cells": [
  {
   "cell_type": "code",
   "execution_count": 1,
   "id": "average-boundary",
   "metadata": {},
   "outputs": [],
   "source": [
    "import pandas as pd\n",
    "from os import listdir"
   ]
  },
  {
   "cell_type": "code",
   "execution_count": 2,
   "id": "specific-building",
   "metadata": {},
   "outputs": [],
   "source": [
    "outflow_filepaths = [s for s in listdir(\"../data/master/\") if s.endswith('.xlsx')]\n"
   ]
  },
  {
   "cell_type": "code",
   "execution_count": 5,
   "id": "driving-trademark",
   "metadata": {},
   "outputs": [],
   "source": [
    "def remove_dup_cols(df):\n",
    "    dup_cols = []\n",
    "    for col in df.columns.values:\n",
    "        if '.1' in col:\n",
    "            dup_cols.append(col)\n",
    "        else:\n",
    "            None\n",
    "    out = df.drop(columns=dup_cols)\n",
    "    return out "
   ]
  },
  {
   "cell_type": "code",
   "execution_count": null,
   "id": "absolute-recruitment",
   "metadata": {},
   "outputs": [],
   "source": [
    "%%time\n",
    "for f in outflow_filepaths:\n",
    "    out_df = pd.read_excel(\"../data/master/\"+f).assign(date=f[31:43]) \n",
    "    remove_dup_cols(out_df)\n",
    "    out_df.to_csv('../data/out/'+str(f)[:-5]+'.csv', encoding='utf-8')"
   ]
  },
  {
   "cell_type": "code",
   "execution_count": null,
   "id": "mediterranean-flesh",
   "metadata": {},
   "outputs": [],
   "source": []
  }
 ],
 "metadata": {
  "kernelspec": {
   "display_name": "Python 3",
   "language": "python",
   "name": "python3"
  },
  "language_info": {
   "codemirror_mode": {
    "name": "ipython",
    "version": 3
   },
   "file_extension": ".py",
   "mimetype": "text/x-python",
   "name": "python",
   "nbconvert_exporter": "python",
   "pygments_lexer": "ipython3",
   "version": "3.9.1"
  }
 },
 "nbformat": 4,
 "nbformat_minor": 5
}
