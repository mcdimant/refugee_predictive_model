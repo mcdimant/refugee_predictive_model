{
 "cells": [
  {
   "cell_type": "code",
   "execution_count": 1,
   "id": "virgin-deputy",
   "metadata": {},
   "outputs": [],
   "source": [
    "import pandas as pd\n",
    "import numpy as np\n",
    "import matplotlib.pyplot as plt\n",
    "from os import listdir\n",
    "import geopy.distance\n",
    "from sklearn.ensemble import RandomForestRegressor\n",
    "from sklearn.model_selection import train_test_split\n",
    "from sklearn.metrics import confusion_matrix, precision_score, recall_score\n"
   ]
  },
  {
   "cell_type": "code",
   "execution_count": 2,
   "id": "random-paradise",
   "metadata": {},
   "outputs": [],
   "source": [
    "conflict_df = pd.read_csv('../data/conflict_data_irq.csv')\n",
    "conflict_df.drop(0, inplace=True)\n",
    "conflict_df['date_start'] = pd.to_datetime(conflict_df['date_start'])\n",
    "conflict_df['date_end'] = pd.to_datetime(conflict_df['date_start'])"
   ]
  },
  {
   "cell_type": "code",
   "execution_count": 3,
   "id": "temporal-surge",
   "metadata": {},
   "outputs": [],
   "source": [
    "conflict_df.replace(to_replace={'Al Anbār province':'Anbar',\n",
    "                            'Nīnawá province':'Ninewa',\n",
    "                           'Baghdād province':'Baghdad', \n",
    "                            'Dahūk province':'Dahuk', \n",
    "                          'Diyālá province':'Diyala',\n",
    "                           'Kirkūk province':'Kirkuk',\n",
    "                           'Şalāḩ ad Dīn province':'Salah al-Din'}, inplace=True)"
   ]
  },
  {
   "cell_type": "code",
   "execution_count": 4,
   "id": "exotic-insurance",
   "metadata": {},
   "outputs": [],
   "source": [
    "conflict_df.replace(to_replace={'Abū Ghurayb district':'Abu Ghraib',\n",
    "'Al Ba‘āj district':\"Al-Ba'aj\",\n",
    "'Al Qā’im district':\"Al-Ka'im\",\n",
    "'Al-Faris district':'Al-Fares',\n",
    "'Hīt district':'Heet',\n",
    "'Qaḑā’ ‘Ānah':'Ana',\n",
    "'Qaḑā’ ad Dawr':'Al-Daur',\n",
    "'Qaḑā’ al Fallūjah':'Falluja',\n",
    "'Qaḑā’ al Ḩaḑr':'Hatra',\n",
    "'Qaḑā’ al Ḩamdānīyah':'Al-Hamdaniya',\n",
    "'Qaḑā’ al Khāliş':'Al-Khalis',\n",
    "'Qaḑā’ al Maḩmūdīyah':'Mahmoudiya',\n",
    "'Qaḑā’ al Mawşil':'Mosul',\n",
    "'Qaḑā’ al Miqdādīyah':'Al-Muqdadiya',\n",
    "'Qaḑā’ ar Ramādī':'Ramadi',\n",
    "'Qaḑā’ ar Ruţbah':'Al-Rutba',\n",
    "'Qaḑā’ ash Shaykhān':'Al-Shikhan',\n",
    "'Qaḑā’ Balad':'Balad',\n",
    "'Qaḑā’ Bayjī':'Baiji',\n",
    "'Qaḑā’ Haditha':'Haditha',\n",
    "'Qaḑā’ Khānaqīn':'Khanaqin',\n",
    "'Qaḑā’ Kifrī':'Kifri',\n",
    "'Qaḑā’ Sāmarrā':'Samarra',\n",
    "'Qaḑā’ Sharqāţ':'Al-Shirqat',\n",
    "'Qaḑā’ Tall ‘Afar':'Telafar',\n",
    "'Qaḑā’ Tikrīt':'Tikrit',\n",
    "'Qaḑā’ Zākhū':'Zakho',\n",
    "'Sinjār district':'Sinjar',\n",
    "'Tallkayf district':'Tilkaif',\n",
    "'Tooz district':'Tuz Khurmatu',\n",
    "'Zakho district':'Zakho'}, inplace=True)"
   ]
  },
  {
   "cell_type": "code",
   "execution_count": 5,
   "id": "demanding-track",
   "metadata": {},
   "outputs": [],
   "source": [
    "gov_names = ['Anbar', 'Ninewa', 'Baghdad', 'Dahuk', 'Diyala', 'Salah al-Din']"
   ]
  },
  {
   "cell_type": "code",
   "execution_count": 6,
   "id": "central-gasoline",
   "metadata": {},
   "outputs": [],
   "source": [
    "district_names = ['Abu Ghraib', \"Al-Ba'aj\", \"Al-Ka'im\", 'Al-Fares', 'Heet', 'Ana', 'Al-Daur',\n",
    "'Falluja', 'Hatra', 'Al-Hamdaniya', 'Al-Khalis', 'Mahmoudiya', 'Mosul', 'Al-Muqdadiya', 'Ramadi',\n",
    "'Al-Rutba', 'Al-Shikhan', 'Balad', 'Baiji', 'Haditha', 'Khanaqin', 'Kifri', 'Samarra', \n",
    "'Al-Shirqat', 'Telafar', 'Tikrit', 'Zakho', 'Sinjar', 'Tilkaif', 'Tuz Khurmatu','Zakho']"
   ]
  },
  {
   "cell_type": "code",
   "execution_count": 7,
   "id": "overall-parade",
   "metadata": {},
   "outputs": [],
   "source": [
    "conflict_df = conflict_df[conflict_df['adm_1'].isin(gov_names)]\n",
    "conflict_df = conflict_df[conflict_df['adm_2'].isin(district_names)]"
   ]
  },
  {
   "cell_type": "code",
   "execution_count": 8,
   "id": "relevant-mounting",
   "metadata": {},
   "outputs": [
    {
     "name": "stdout",
     "output_type": "stream",
     "text": [
      "CPU times: user 3.44 s, sys: 762 ms, total: 4.2 s\n",
      "Wall time: 5.01 s\n"
     ]
    }
   ],
   "source": [
    "%%time\n",
    "#reads in data on outflow of refugees, concatenates into big dataframe\n",
    "outflow_filepaths = [s for s in listdir(\"../data/out/\")]\n",
    "out_df = pd.concat((pd.read_csv(\"../data/out/\"+s) for s in outflow_filepaths), ignore_index=True) \n"
   ]
  },
  {
   "cell_type": "code",
   "execution_count": 9,
   "id": "parallel-launch",
   "metadata": {},
   "outputs": [
    {
     "data": {
      "text/plain": [
       "Index(['Unnamed: 0', 'Location ID', 'Place ID', 'Governorate', 'District',\n",
       "       'Location Name', 'Arabic Name', 'Latitude', 'Longitude', 'Families',\n",
       "       'Individuals', 'Anbar', 'Babylon', 'Baghdad', 'Basrah', 'Dahuk',\n",
       "       'Diyala', 'Erbil', 'Kerbala', 'Kirkuk', 'Missan', 'Muthanna', 'Najaf',\n",
       "       'Ninewa', 'Qadissiya', 'Salahal Din', 'Sulaymaniyah', 'Thi Qar',\n",
       "       'Wassit', 'Camp', 'Hostfamilies', 'Hotel Motel', 'Informalsettlements',\n",
       "       'Own Property', 'Other', 'Religiousbuilding', 'Rented pre Apr 2019',\n",
       "       'Rented Habitable', 'Rented Uninhabitable', 'Schoolbuilding',\n",
       "       'Unfinishedbuilding', 'Unknownsheltertype',\n",
       "       'Pre June14 Period of displacement',\n",
       "       'June July14 Period of displacement', 'August14 Period of displacement',\n",
       "       'Post September 14 Period of displacement',\n",
       "       'Post April15 Period of displacement',\n",
       "       'Post March 16 Period of displacement',\n",
       "       'Post 17 October 16 Period of displacement',\n",
       "       'July 17 Period of displacement', 'Jan19', 'date'],\n",
       "      dtype='object')"
      ]
     },
     "execution_count": 9,
     "metadata": {},
     "output_type": "execute_result"
    }
   ],
   "source": [
    "out_df.columns"
   ]
  },
  {
   "cell_type": "code",
   "execution_count": 10,
   "id": "vietnamese-substitute",
   "metadata": {},
   "outputs": [],
   "source": [
    "out_df.dropna(how='any', inplace=True)"
   ]
  },
  {
   "cell_type": "code",
   "execution_count": 11,
   "id": "bored-nitrogen",
   "metadata": {},
   "outputs": [],
   "source": [
    "#cleanup of data types \n",
    "out_df['date'] = pd.to_datetime(out_df['date'])\n",
    "out_df.rename(columns={'Location Name':'Location_name'}, inplace=True)\n",
    "out_df['Location ID'] = out_df['Location ID'].astype(int)\n",
    "out_df['Place ID'] = out_df['Place ID'].astype(int)\n",
    "out_df['Families'] = out_df['Families'].astype(int)\n",
    "out_df['Individuals'] = out_df['Individuals'].astype(int)\n"
   ]
  },
  {
   "cell_type": "code",
   "execution_count": 12,
   "id": "coordinate-telling",
   "metadata": {},
   "outputs": [],
   "source": [
    "#filters only for districts on which there exists return data \n",
    "out_df = out_df[out_df['District'].isin(district_names)]"
   ]
  },
  {
   "cell_type": "code",
   "execution_count": 36,
   "id": "legendary-horizontal",
   "metadata": {},
   "outputs": [
    {
     "name": "stdout",
     "output_type": "stream",
     "text": [
      "CPU times: user 13.2 ms, sys: 6.61 ms, total: 19.8 ms\n",
      "Wall time: 22 ms\n"
     ]
    }
   ],
   "source": [
    "%%time\n",
    "#reads in data on returning refugees, concatenates into large dataframe \n",
    "returnee_filepaths = [f for f in listdir(\"../data/inflow/\")]\n",
    "ret_df = pd.concat((pd.read_csv(\"../data/inflow/\"+f)\n",
    "                  for f in returnee_filepaths), ignore_index=True)"
   ]
  },
  {
   "cell_type": "code",
   "execution_count": 14,
   "id": "continuous-europe",
   "metadata": {},
   "outputs": [],
   "source": [
    "diplacement_dict = {'Pre June14 Period of displacement':'disp_preJun14',\n",
    "                      'June July14 Period of displacement':'disp_JunJuly14',\n",
    "                      'August14 Period of displacement':'disp_Aug14',\n",
    "                      'Post September 14 Period of displacement':'disp_postSep14',\n",
    "                      'Post April15 Period of displacement':'disp_postApr15',\n",
    "                      'Post March 16 Period of displacement':'disp_postMar16',\n",
    "                      'Post 17 October 16 Period of displacement': 'disp_post17Oct16',\n",
    "                      'July 17 Period of displacement':'disp_Jul17',\n",
    "                      'Jan19':'disp_Jan19'}"
   ]
  },
  {
   "cell_type": "code",
   "execution_count": 15,
   "id": "bronze-scout",
   "metadata": {},
   "outputs": [],
   "source": [
    "ret_df.rename(columns=displacement_dict, inplace=True)\n",
    "out_df.rename(columns=diplacement_dict, inplace=True)"
   ]
  },
  {
   "cell_type": "code",
   "execution_count": 16,
   "id": "geological-pontiac",
   "metadata": {},
   "outputs": [],
   "source": [
    "ret_df.dropna(how='all', inplace=True)\n",
    "ret_df['date'] = pd.to_datetime(ret_df['date'])"
   ]
  },
  {
   "cell_type": "code",
   "execution_count": 17,
   "id": "inside-jurisdiction",
   "metadata": {},
   "outputs": [],
   "source": [
    "def trim_all_columns(df):\n",
    "    \"\"\"\n",
    "    Trim whitespace from ends of each value across all series in dataframe\n",
    "    \"\"\"\n",
    "    trim_strings = lambda x: x.strip() if isinstance(x, str) else x\n",
    "    return df.applymap(trim_strings)\n",
    "\n"
   ]
  },
  {
   "cell_type": "code",
   "execution_count": 18,
   "id": "powerful-allowance",
   "metadata": {},
   "outputs": [],
   "source": [
    "ret_df = trim_all_columns(ret_df)\n",
    "out_df = trim_all_columns(out_df)"
   ]
  },
  {
   "cell_type": "code",
   "execution_count": 19,
   "id": "equal-hospital",
   "metadata": {},
   "outputs": [],
   "source": [
    "ret_df.sort_values(['Location ID', 'date'], inplace=True)"
   ]
  },
  {
   "cell_type": "code",
   "execution_count": 20,
   "id": "backed-sending",
   "metadata": {},
   "outputs": [],
   "source": [
    "ret_df.dropna(how='any', inplace=True)"
   ]
  },
  {
   "cell_type": "code",
   "execution_count": 21,
   "id": "upset-hours",
   "metadata": {},
   "outputs": [],
   "source": [
    "ret_df['ret_delta'] = ret_df.groupby(['Location ID'])['Returnee Families'].transform(lambda x: x.diff()) \n",
    "\n"
   ]
  },
  {
   "cell_type": "code",
   "execution_count": 22,
   "id": "thermal-primary",
   "metadata": {},
   "outputs": [],
   "source": [
    "ret_df.sort_values(['Location ID', 'date'], inplace=True)\n",
    "ret_df.reset_index(inplace=True)\n",
    "ret_df.drop(columns='index', axis=1, inplace=True)"
   ]
  },
  {
   "cell_type": "code",
   "execution_count": 34,
   "id": "southeast-doctrine",
   "metadata": {},
   "outputs": [
    {
     "data": {
      "text/plain": [
       "Index(['Location ID', 'Place_ID', 'Governorate', 'District', 'Location_name',\n",
       "       'Arabic_name', 'Latitude', 'Longitude', 'Returnee Families',\n",
       "       'Returnee Individuals', 'Anbar', 'Babylon', 'Baghdad', 'Basrah',\n",
       "       'Dahuk', 'Diyala', 'Erbil', 'Kerbala', 'Kirkuk', 'Missan', 'Muthanna',\n",
       "       'Najaf', 'Ninewa', 'Qadissiya', 'Salahal Din', 'Sulaymaniyah',\n",
       "       'Thi Qar', 'Wassit', 'Camp', 'Habitual Pre_31_October2018',\n",
       "       'Habitual Residence (Habitable)', 'Habitual Residence (Uninhabitable)',\n",
       "       'Host_families', 'Hotel_Motel', 'Informal_settlements', 'Other',\n",
       "       'Religious_building', 'Rented_houses', 'School_building',\n",
       "       'Unfinished_Abandoned_building', 'Unknown_shelter_type',\n",
       "       'Pre June14 Period of displacement',\n",
       "       'June July14 Period of displacement', 'August14 Period of displacement',\n",
       "       'Post September 14 Period of displacement',\n",
       "       'Post April15 Period of displacement',\n",
       "       'Post March 16 Period of displacement',\n",
       "       'Post 17 October 16 Period of displacement',\n",
       "       'July 17 Period of displacement', 'Jan19', 'date', 'ret_delta'],\n",
       "      dtype='object')"
      ]
     },
     "execution_count": 34,
     "metadata": {},
     "output_type": "execute_result"
    }
   ],
   "source": [
    "ret_df.columns"
   ]
  },
  {
   "cell_type": "code",
   "execution_count": 23,
   "id": "sunset-bahamas",
   "metadata": {},
   "outputs": [],
   "source": [
    "#should be functionized \n",
    "for i in range(len(ret_df)):\n",
    "    if np.isnan(ret_df.at[i, 'ret_delta']):\n",
    "        ret_df.at[i, 'ret_delta'] = ret_df.at[i, 'Returnee Families']\n",
    "    else:\n",
    "        None"
   ]
  },
  {
   "cell_type": "code",
   "execution_count": 24,
   "id": "comparative-theater",
   "metadata": {},
   "outputs": [],
   "source": [
    "out_df.sort_values(['Location ID', 'date'], inplace=True)\n",
    "out_df.reset_index(inplace=True)\n",
    "out_df.drop(columns='index', axis=1, inplace=True)"
   ]
  },
  {
   "cell_type": "code",
   "execution_count": 25,
   "id": "endless-elevation",
   "metadata": {},
   "outputs": [],
   "source": [
    "master_df = ret_df.merge(out_df, how='outer', on=['Location ID', 'date', 'Governorate',\n",
    "                                                 'District', 'Location_name'])"
   ]
  },
  {
   "cell_type": "code",
   "execution_count": 26,
   "id": "wireless-orange",
   "metadata": {},
   "outputs": [],
   "source": [
    "master_df.rename(columns={'Families':'outflow', 'ret_delta':'inflow'}, inplace=True)"
   ]
  },
  {
   "cell_type": "code",
   "execution_count": 28,
   "id": "psychological-collapse",
   "metadata": {},
   "outputs": [
    {
     "data": {
      "text/plain": [
       "Index(['Location ID', 'Place_ID', 'Governorate', 'District', 'Location_name',\n",
       "       'Arabic_name', 'Latitude_x', 'Longitude_x', 'Returnee Families',\n",
       "       'Returnee Individuals', 'Anbar_x', 'Babylon_x', 'Baghdad_x', 'Basrah_x',\n",
       "       'Dahuk_x', 'Diyala_x', 'Erbil_x', 'Kerbala_x', 'Kirkuk_x', 'Missan_x',\n",
       "       'Muthanna_x', 'Najaf_x', 'Ninewa_x', 'Qadissiya_x', 'Salahal Din_x',\n",
       "       'Sulaymaniyah_x', 'Thi Qar_x', 'Wassit_x', 'Camp_x',\n",
       "       'Habitual Pre_31_October2018', 'Habitual Residence (Habitable)',\n",
       "       'Habitual Residence (Uninhabitable)', 'Host_families', 'Hotel_Motel',\n",
       "       'Informal_settlements', 'Other_x', 'Religious_building',\n",
       "       'Rented_houses', 'School_building', 'Unfinished_Abandoned_building',\n",
       "       'Unknown_shelter_type', 'Pre June14 Period of displacement',\n",
       "       'June July14 Period of displacement', 'August14 Period of displacement',\n",
       "       'Post September 14 Period of displacement',\n",
       "       'Post April15 Period of displacement',\n",
       "       'Post March 16 Period of displacement',\n",
       "       'Post 17 October 16 Period of displacement',\n",
       "       'July 17 Period of displacement', 'Jan19', 'date', 'inflow',\n",
       "       'Unnamed: 0', 'Place ID', 'Arabic Name', 'Latitude_y', 'Longitude_y',\n",
       "       'outflow', 'Individuals', 'Anbar_y', 'Babylon_y', 'Baghdad_y',\n",
       "       'Basrah_y', 'Dahuk_y', 'Diyala_y', 'Erbil_y', 'Kerbala_y', 'Kirkuk_y',\n",
       "       'Missan_y', 'Muthanna_y', 'Najaf_y', 'Ninewa_y', 'Qadissiya_y',\n",
       "       'Salahal Din_y', 'Sulaymaniyah_y', 'Thi Qar_y', 'Wassit_y', 'Camp_y',\n",
       "       'Hostfamilies', 'Hotel Motel', 'Informalsettlements', 'Own Property',\n",
       "       'Other_y', 'Religiousbuilding', 'Rented pre Apr 2019',\n",
       "       'Rented Habitable', 'Rented Uninhabitable', 'Schoolbuilding',\n",
       "       'Unfinishedbuilding', 'Unknownsheltertype', 'disp_preJun14',\n",
       "       'disp_JunJuly14', 'disp_Aug14', 'disp_postSep14', 'disp_postApr15',\n",
       "       'disp_postMar16', 'disp_post17Oct16', 'disp_Jul17', 'disp_Jan19'],\n",
       "      dtype='object')"
      ]
     },
     "execution_count": 28,
     "metadata": {},
     "output_type": "execute_result"
    }
   ],
   "source": [
    "master_df.columns"
   ]
  },
  {
   "cell_type": "code",
   "execution_count": null,
   "id": "sunset-scroll",
   "metadata": {},
   "outputs": [],
   "source": [
    "master_df['date'] = master_df['date'].apply(lambda x: x.toordinal())\n",
    "master_df.fillna(0, inplace=True)"
   ]
  },
  {
   "cell_type": "code",
   "execution_count": null,
   "id": "backed-campaign",
   "metadata": {},
   "outputs": [],
   "source": [
    "X = master_df.drop(columns=['inflow'])\n",
    "y = master_df['inflow']"
   ]
  },
  {
   "cell_type": "code",
   "execution_count": null,
   "id": "funky-correction",
   "metadata": {},
   "outputs": [],
   "source": [
    "X_train, X_test, y_train, y_test = train_test_split(X, y)"
   ]
  },
  {
   "cell_type": "code",
   "execution_count": null,
   "id": "passive-sampling",
   "metadata": {},
   "outputs": [],
   "source": [
    "rf = RandomForestRegressor()\n",
    "rf.fit(X_train, y_train)"
   ]
  },
  {
   "cell_type": "code",
   "execution_count": null,
   "id": "comparative-brooklyn",
   "metadata": {},
   "outputs": [],
   "source": [
    "print(\"accuracy score:\", rf.score(X_test, y_test))"
   ]
  },
  {
   "cell_type": "code",
   "execution_count": null,
   "id": "artistic-fever",
   "metadata": {},
   "outputs": [],
   "source": [
    "\n",
    "print(\"\\n10. precision:\", precision_score(y_test, y_predict))\n",
    "print(\"    recall:\", recall_score(y_test, y_predict))\n",
    "\n"
   ]
  },
  {
   "cell_type": "code",
   "execution_count": null,
   "id": "packed-housing",
   "metadata": {},
   "outputs": [],
   "source": [
    "for ix, coord in enumerate(zip(conflict_df['latitude'], conflict_df['longitude'])):\n",
    "    for idx, rcoord in enumerate(zip(ret_df['Latitude'], ret_df['Longitude'])):\n",
    "        if geopy.distance.distance(coord, rcoord).km > 10:\n",
    "            print(idx)\n",
    "            ser[idx] += 1\n",
    "        else:\n",
    "            print(idx)"
   ]
  }
 ],
 "metadata": {
  "kernelspec": {
   "display_name": "Python 3",
   "language": "python",
   "name": "python3"
  },
  "language_info": {
   "codemirror_mode": {
    "name": "ipython",
    "version": 3
   },
   "file_extension": ".py",
   "mimetype": "text/x-python",
   "name": "python",
   "nbconvert_exporter": "python",
   "pygments_lexer": "ipython3",
   "version": "3.9.1"
  }
 },
 "nbformat": 4,
 "nbformat_minor": 5
}
