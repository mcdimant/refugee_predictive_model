{
 "cells": [
  {
   "cell_type": "code",
   "execution_count": 1,
   "id": "virgin-deputy",
   "metadata": {},
   "outputs": [],
   "source": [
    "import pandas as pd\n",
    "import numpy as np\n",
    "import matplotlib.pyplot as plt\n",
    "from os import listdir\n",
    "import geopy.distance\n",
    "from sklearn.ensemble import RandomForestRegressor\n",
    "from sklearn.model_selection import train_test_split\n",
    "from sklearn.metrics import confusion_matrix, precision_score, recall_score\n"
   ]
  },
  {
   "cell_type": "code",
   "execution_count": 2,
   "id": "random-paradise",
   "metadata": {},
   "outputs": [],
   "source": [
    "conflict_df = pd.read_csv('../data/conflict_data_irq.csv')\n",
    "conflict_df.drop(0, inplace=True)\n",
    "conflict_df['date_start'] = pd.to_datetime(conflict_df['date_start'])\n",
    "conflict_df['date_end'] = pd.to_datetime(conflict_df['date_start'])"
   ]
  },
  {
   "cell_type": "code",
   "execution_count": 3,
   "id": "rolled-collect",
   "metadata": {},
   "outputs": [],
   "source": [
    "governorate_dict = {'Al Anbār province':'Anbar', 'Nīnawá province':'Ninewa',\n",
    "'Baghdād province':'Baghdad','Dahūk province':'Dahuk', 'Diyālá province':'Diyala','Kirkūk province':'Kirkuk',\n",
    "'Şalāḩ ad Dīn province':'Salah al-Din', 'Karbalā’ province':'Kerbala', 'An Najaf province':'Najaf',\n",
    "'Bābil province':'Babylon','Arbīl province':'Erbil','Al Başrah  province':'Basrah','Dhī Qār province':'Thi-Qar',\n",
    "'Al Muthanná province':'Muthanna','As Sulaymānīyah province':'Sulaymaniyah', 'Maysān  province':'Missan',\n",
    "'Al Qādisīyah province':'Qadissiya', 'Wāsiţ province':'Wassit'}"
   ]
  },
  {
   "cell_type": "code",
   "execution_count": 4,
   "id": "temporal-surge",
   "metadata": {},
   "outputs": [],
   "source": [
    "conflict_df.replace(to_replace=governorate_dict, inplace=True)"
   ]
  },
  {
   "cell_type": "code",
   "execution_count": 5,
   "id": "standard-market",
   "metadata": {},
   "outputs": [],
   "source": [
    "district_dict = {'Abū Ghurayb district':'Abu Ghraib',\n",
    "'Al Ba‘āj district':\"Al-Ba'aj\",\n",
    "'Al Qā’im district':\"Al-Ka'im\",\n",
    "'Al-Faris district':'Al-Fares',\n",
    "'Hīt district':'Heet',\n",
    "'Qaḑā’ ‘Ānah':'Ana',\n",
    "'Qaḑā’ ad Dawr':'Al-Daur',\n",
    "'Qaḑā’ al Fallūjah':'Falluja',\n",
    "'Qaḑā’ al Ḩaḑr':'Hatra',\n",
    "'Qaḑā’ al Ḩamdānīyah':'Al-Hamdaniya',\n",
    "'Qaḑā’ al Khāliş':'Al-Khalis',\n",
    "'Qaḑā’ al Maḩmūdīyah':'Mahmoudiya',\n",
    "'Qaḑā’ al Mawşil':'Mosul',\n",
    "'Qaḑā’ al Miqdādīyah':'Al-Muqdadiya',\n",
    "'Qaḑā’ ar Ramādī':'Ramadi',\n",
    "'Qaḑā’ ar Ruţbah':'Al-Rutba',\n",
    "'Qaḑā’ ash Shaykhān':'Al-Shikhan',\n",
    "'Qaḑā’ Balad':'Balad',\n",
    "'Qaḑā’ Bayjī':'Baiji',\n",
    "'Qaḑā’ Haditha':'Haditha',\n",
    "'Qaḑā’ Khānaqīn':'Khanaqin',\n",
    "'Qaḑā’ Kifrī':'Kifri',\n",
    "'Qaḑā’ Sāmarrā':'Samarra',\n",
    "'Qaḑā’ Sharqāţ':'Al-Shirqat',\n",
    "'Qaḑā’ Tall ‘Afar':'Telafar',\n",
    "'Qaḑā’ Tikrīt':'Tikrit',\n",
    "'Qaḑā’ Zākhū':'Zakho',\n",
    "'Sinjār district':'Sinjar',\n",
    "'Tallkayf district':'Tilkaif',\n",
    "'Tooz district':'Tuz Khurmatu',\n",
    "'Zakho district':'Zakho',\n",
    "\"Al ‘Amādīyah\":'Amedi',\n",
    "\"Al ‘Amādīyah district\":'Amedi',\n",
    "\"Al ‘Azīzīyah district\":'Al-Azezia',\n",
    "\"Al Madā’in district\":'Al-Midaina',\n",
    "'Al Majar al Kabīr district':'Al-Mejar Al-Kabir',\n",
    "'Al Maymūnah district':'Al-Maimouna',\n",
    "'Al-Shirqat district':'Al-Shirqat',\n",
    "'Baladrūz district':'Baladrooz',\n",
    "'Dāqūq district':'Daquq',\n",
    "'Kuwaysinjaq district':'Koisnjaq',\n",
    "'Mergasur District':'Mergasur',\n",
    "'Paynjuwayn district':'Penjwin',\n",
    "\"Qaḑā al ‘Amārah\":'Amara',\n",
    "'Qaḑā al Chibāyish':'Al-Chibayish',\n",
    "'Qaḑā Karbalā’':'Kerbala',\n",
    "\"Qaḑā’ ‘Alī al Gharbī\":'Ali Al-Gharbi',\n",
    "'Qaḑā’ ad Dīwānīyah':'Diwaniya',\n",
    "'Qaḑā’ Ain Al Tamur':'Ain Al-Tamur',\n",
    "'Qaḑā’ al Başrah':'Basrah',\n",
    "'Qaḑā’ al Hāshimīyah':'Hashimiya',\n",
    "'Qaḑā’ al Ḩawījah':'Al-Hawiga',\n",
    "'Qaḑā’ al Ḩayy':'Al-Hai',\n",
    "'Qaḑā’ al Ḩillah':'Hilla',\n",
    "'Qaḑā’ al Hindīyah':'Al-Hindiya',\n",
    "'Qaḑā’ al Kūfah':'Kufa',\n",
    "'Qaḑā’ al Kūt':'Kut',\n",
    "'Qaḑā’ al Maḩāwīl':'Al-Mahawil',\n",
    "'Qaḑā’ al Manādhirah':'Al-Manathera',\n",
    "'Qaḑā’ al Musayyib':'Al-Musayab',\n",
    "'Qaḑā’ al Qurnah':'Al-Qurna',\n",
    "'Qaḑā’ an Najaf':'Najaf',\n",
    "'Qaḑā’ an Nāşirīyah':'Nassriya',\n",
    "'Qaḑā’ Arbīl':'Erbil',\n",
    "'Qaḑā’ as Samāwah':'Al-Samawa',\n",
    "'Qaḑā’ aş Şuwayrah':'Al-Suwaira',\n",
    "'Qaḑā’ ash Shāmīyah':'Al-Shamiya',\n",
    "'Qaḑā’ ash Shaţrah':'Al-Shatra',\n",
    "'Qaḑā’ az Zubayr':'Al-Zubair',\n",
    "\"Qaḑā’ Ba‘qūbah\":\"Ba'quba\",\n",
    "'Qaḑā’ Chamchamal':'Chamchamal',\n",
    "'Qaḑā’ Chomān':'Choman',\n",
    "'Qaḑā’ Dahūk':'Dahuk',\n",
    "'Qaḑā’ Dibis':'Dabes',\n",
    "'Qaḑā’ Ḩadīthah':'Haditha',\n",
    "'Qaḑā’ Ḩalabchah':'Halabja',\n",
    "'Qaḑā’ Kalār':'Kalar',\n",
    "'Qaḑā’ Kirkūk':'Kirkuk',\n",
    "'Qaḑā’ Makhmūr':'Makhmur',\n",
    "'Qaḑā’ Miqdādīyah':'Al-Muqdadiya',\n",
    "'Qaḑā’ Pishdar':'Pshdar',\n",
    "'Qaḑā’ Rāniyah':'Rania',\n",
    "'Qaḑā’ Shahrbāzār':'Sharbazher',\n",
    "'Qaḑā’ Shaqlāwah':'Shaqlawa',\n",
    "'Qaḑā’ Sulaymānīyah':'Sulaymaniya',\n",
    "'Qaḑā’ Sūq ash Shuyūkh':'Suq Al-Shoyokh',\n",
    "'Qaḑā’ Zākhū':'Zakho',\n",
    "'Soran district':'Soran'}"
   ]
  },
  {
   "cell_type": "code",
   "execution_count": 6,
   "id": "exotic-insurance",
   "metadata": {},
   "outputs": [],
   "source": [
    "conflict_df.replace(to_replace=district_dict, inplace=True)"
   ]
  },
  {
   "cell_type": "code",
   "execution_count": 7,
   "id": "together-mozambique",
   "metadata": {},
   "outputs": [],
   "source": [
    "conflict_df = conflict_df[conflict_df['adm_2'].isin(list(district_dict.values()))]\n",
    "conflict_df.dropna(how='any', inplace=True)"
   ]
  },
  {
   "cell_type": "code",
   "execution_count": 8,
   "id": "relevant-mounting",
   "metadata": {},
   "outputs": [
    {
     "name": "stdout",
     "output_type": "stream",
     "text": [
      "CPU times: user 3.27 s, sys: 703 ms, total: 3.98 s\n",
      "Wall time: 4.65 s\n"
     ]
    }
   ],
   "source": [
    "%%time\n",
    "#reads in data on outflow of refugees, concatenates into big dataframe\n",
    "outflow_filepaths = [s for s in listdir(\"../data/out/\")]\n",
    "out_df = pd.concat((pd.read_csv(\"../data/out/\"+s) for s in outflow_filepaths), ignore_index=True) \n"
   ]
  },
  {
   "cell_type": "code",
   "execution_count": 9,
   "id": "dress-conclusion",
   "metadata": {},
   "outputs": [],
   "source": [
    "out_df.dropna(how='any', inplace=True)"
   ]
  },
  {
   "cell_type": "code",
   "execution_count": 10,
   "id": "suffering-composer",
   "metadata": {},
   "outputs": [],
   "source": [
    "#cleanup of data types \n",
    "out_df['date'] = pd.to_datetime(out_df['date'])\n",
    "out_df.rename(columns={'Location Name':'Location_name'}, inplace=True)\n",
    "out_df['Location ID'] = out_df['Location ID'].astype(int)\n",
    "out_df['Place ID'] = out_df['Place ID'].astype(int)\n",
    "out_df['Families'] = out_df['Families'].astype(int)\n",
    "out_df['Individuals'] = out_df['Individuals'].astype(int)\n",
    "out_df.rename(columns={'Place ID':'Place_ID'}, inplace=True)\n"
   ]
  },
  {
   "cell_type": "code",
   "execution_count": 11,
   "id": "residential-sentence",
   "metadata": {},
   "outputs": [],
   "source": [
    "#renaming columns so it's clear that refugees are flowing OUT TO these governorates \n",
    "out_df.rename(columns={'Anbar':'to_Anbar', 'Babylon':'to_Babylon', 'Baghdad':'to_Baghdad', \n",
    "        'Basrah':'to_Basrah', 'Dahuk':'to_Dahuk','Diyala':'to_Diyala', 'Erbil':'to_Erbil',\n",
    "        'Kerbala':'to_Kerbala', 'Kirkuk':'to_Kirkuk', 'Missan':'to_Missan', 'Muthanna':'to_Muthana',              \n",
    "    'Najaf':'to_Najaf', 'Ninewa':'to_Ninewa', 'Qadissiya':'to_Qadissiya', \n",
    "    'Salahal Din':'to_Salahal Din', 'Sulaymaniyah':'to_Sulaymaniyah', 'Thi Qar':'to_Thi Qar',\n",
    "       'Wassit':'to_Wassit'}, inplace=True)"
   ]
  },
  {
   "cell_type": "code",
   "execution_count": 12,
   "id": "universal-athletics",
   "metadata": {},
   "outputs": [],
   "source": [
    "#making clear that these features represent the living situation of refugees who have fled their homes\n",
    "out_df.rename(columns={'Camp':'out_Camp', 'Hostfamilies':'out_Hostfamilies', \n",
    "        'Hotel Motel':'out_Hotel Motel', 'Informalsettlements':'out_Informalsettlements',\n",
    "       'Own Property':'out_Own Property', 'Other':'out_Other', \n",
    "       'Religiousbuilding':'out_Religiousbuilding', 'Rented pre Apr 2019':'out_Rented pre Apr 2019',\n",
    "       'Rented Habitable': 'Rented Habitable', 'Rented Uninhabitable':'Rented Uninhabitable', \n",
    "       'Schoolbuilding':'out_Schoolbuilding','Unfinishedbuilding':'out_Unfinishedbuilding', \n",
    "        'Unknownsheltertype':'out_Unknownsheltertype'}, inplace=True)"
   ]
  },
  {
   "cell_type": "code",
   "execution_count": 13,
   "id": "legendary-horizontal",
   "metadata": {},
   "outputs": [
    {
     "name": "stdout",
     "output_type": "stream",
     "text": [
      "CPU times: user 1.28 s, sys: 245 ms, total: 1.52 s\n",
      "Wall time: 1.78 s\n"
     ]
    }
   ],
   "source": [
    "%%time\n",
    "#reads in data on returning refugees, concatenates into large dataframe \n",
    "returnee_filepaths = [f for f in listdir(\"../data/inflow/\")]\n",
    "ret_df = pd.concat((pd.read_csv(\"../data/inflow/\"+f)\n",
    "                  for f in returnee_filepaths), ignore_index=True)"
   ]
  },
  {
   "cell_type": "code",
   "execution_count": 14,
   "id": "promotional-planner",
   "metadata": {},
   "outputs": [],
   "source": [
    "#renaming features to clarify that refugees are returning to this type of shelter\n",
    "ret_df.rename(columns={'Camp':'ret_camp',\n",
    "       'Habitual Pre_31_October2018':'ret_Habitual Pre_31_October2018',\n",
    "      'Habitual Residence (Habitable)':'ret_Habitual Residence (Habitable)',\n",
    "       'Habitual Residence (Uninhabitable)':'ret_Habitual Residence (Uninhabitable)', \n",
    "       'Host_families':'ret_Host_families', 'Hotel_Motel':'ret_Hotel_Motel',\n",
    "       'Informal_settlements':'ret_Informal_settlements', \n",
    "       'Other':'ret_Other', 'Religious_building':'ret_Religious_building', \n",
    "       'Rented_houses':'ret_Rented_houses', 'School_building':'ret_School_building', \n",
    "       'Unfinished_Abandoned_building':'ret_Unfinished_Abandoned_building',\n",
    "       'Unknown_shelter_type':'ret_Unknown_shelter_type'}, inplace=True)"
   ]
  },
  {
   "cell_type": "code",
   "execution_count": 15,
   "id": "virgin-police",
   "metadata": {},
   "outputs": [],
   "source": [
    "#renaming features to clarify that refugees are RETURNING FROM these governorates \n",
    "ret_df.rename(columns={'Anbar':'from_Anbar', 'Babylon':'from_Babylon',\n",
    "       'Baghdad':'from_Baghdad', 'Basrah':'from_Basrah', 'Dahuk':'from_Dahuk',\n",
    "       'Diyala':'from_Diyala', 'Erbil':'from_Erbil', 'Kerbala':'from_Kerbala', \n",
    "        'Kirkuk':'from_Kirkuk','Missan':'from_Missan', 'Muthanna':'from_Muthanna',\n",
    "        'Najaf':'from_Najaf', 'Ninewa':'from_Ninewa', 'Qadissiya':'from_Qadissiya', \n",
    "        'Salahal Din':'from_Salahal Din'}, inplace=True)"
   ]
  },
  {
   "cell_type": "code",
   "execution_count": 19,
   "id": "systematic-boston",
   "metadata": {},
   "outputs": [],
   "source": [
    "displacement_dict = {'Pre June14 Period of displacement':'disp_preJun14',\n",
    "                      'June July14 Period of displacement':'disp_JunJuly14',\n",
    "                      'August14 Period of displacement':'disp_Aug14',\n",
    "                      'Post September 14 Period of displacement':'disp_postSep14',\n",
    "                      'Post April15 Period of displacement':'disp_postApr15',\n",
    "                      'Post March 16 Period of displacement':'disp_postMar16',\n",
    "                      'Post 17 October 16 Period of displacement': 'disp_post17Oct16',\n",
    "                      'July 17 Period of displacement':'disp_Jul17',\n",
    "                      'Jan19':'disp_Jan19'}"
   ]
  },
  {
   "cell_type": "code",
   "execution_count": 20,
   "id": "thermal-happiness",
   "metadata": {},
   "outputs": [],
   "source": [
    "ret_df.rename(columns=displacement_dict, inplace=True)\n",
    "out_df.rename(columns=displacement_dict, inplace=True)"
   ]
  },
  {
   "cell_type": "code",
   "execution_count": 21,
   "id": "geological-pontiac",
   "metadata": {},
   "outputs": [],
   "source": [
    "ret_df.dropna(how='all', inplace=True)\n",
    "ret_df['date'] = pd.to_datetime(ret_df['date'])"
   ]
  },
  {
   "cell_type": "code",
   "execution_count": 22,
   "id": "inside-jurisdiction",
   "metadata": {},
   "outputs": [],
   "source": [
    "def trim_all_columns(df):\n",
    "    \"\"\"\n",
    "    Trim whitespace from ends of each value across all series in dataframe\n",
    "    \"\"\"\n",
    "    trim_strings = lambda x: x.strip() if isinstance(x, str) else x\n",
    "    return df.applymap(trim_strings)\n",
    "\n"
   ]
  },
  {
   "cell_type": "code",
   "execution_count": 23,
   "id": "powerful-allowance",
   "metadata": {},
   "outputs": [],
   "source": [
    "ret_df = trim_all_columns(ret_df)\n",
    "out_df = trim_all_columns(out_df)"
   ]
  },
  {
   "cell_type": "code",
   "execution_count": 24,
   "id": "equal-hospital",
   "metadata": {},
   "outputs": [],
   "source": [
    "ret_df.sort_values(['Location ID', 'date'], inplace=True)"
   ]
  },
  {
   "cell_type": "code",
   "execution_count": 25,
   "id": "backed-sending",
   "metadata": {},
   "outputs": [],
   "source": [
    "ret_df.dropna(how='any', inplace=True)"
   ]
  },
  {
   "cell_type": "code",
   "execution_count": 26,
   "id": "upset-hours",
   "metadata": {},
   "outputs": [],
   "source": [
    "ret_df['ret_delta'] = ret_df.groupby(['Location ID'])['Returnee Families'].transform(lambda x: x.diff()) \n",
    "\n"
   ]
  },
  {
   "cell_type": "code",
   "execution_count": 27,
   "id": "thermal-primary",
   "metadata": {},
   "outputs": [],
   "source": [
    "ret_df.sort_values(['Location ID', 'date'], inplace=True)\n",
    "ret_df.reset_index(inplace=True)\n",
    "ret_df.drop(columns='index', axis=1, inplace=True)"
   ]
  },
  {
   "cell_type": "code",
   "execution_count": 28,
   "id": "sunset-bahamas",
   "metadata": {},
   "outputs": [],
   "source": [
    "#should be functionized \n",
    "for i in range(len(ret_df)):\n",
    "    if np.isnan(ret_df.at[i, 'ret_delta']):\n",
    "        ret_df.at[i, 'ret_delta'] = ret_df.at[i, 'Returnee Families']\n",
    "    else:\n",
    "        None"
   ]
  },
  {
   "cell_type": "code",
   "execution_count": 29,
   "id": "pharmaceutical-prior",
   "metadata": {},
   "outputs": [],
   "source": [
    "out_df.sort_values(['Location ID', 'date'], inplace=True)\n",
    "out_df.reset_index(inplace=True)\n",
    "out_df.drop(columns='index', axis=1, inplace=True)"
   ]
  },
  {
   "cell_type": "code",
   "execution_count": 48,
   "id": "strong-oxford",
   "metadata": {},
   "outputs": [],
   "source": [
    "master_df = ret_df.merge(out_df, how='outer', on=['Location ID', 'date', 'Governorate',\n",
    "                                                 'District', 'Place_ID', 'Location_name',\n",
    "                                                 'disp_preJun14', 'disp_JunJuly14', 'disp_Aug14', \n",
    "                                                'disp_postSep14', 'disp_postApr15',\n",
    "                                                'disp_postMar16', 'disp_post17Oct16', \n",
    "                                                  'disp_Jul17', 'disp_Jan19'])"
   ]
  },
  {
   "cell_type": "code",
   "execution_count": 49,
   "id": "constant-looking",
   "metadata": {},
   "outputs": [],
   "source": [
    "master_df.rename(columns={'Families':'outflow', 'ret_delta':'inflow'}, inplace=True)"
   ]
  },
  {
   "cell_type": "code",
   "execution_count": 52,
   "id": "little-blair",
   "metadata": {},
   "outputs": [],
   "source": [
    "master_df.drop(columns=['Unnamed: 0_x', 'Latitude_x', 'Longitude_x', 'Latitude_y', 'Longitude_y',\n",
    "                       'Unnamed: 0_y', 'Arabic_name', 'Governorate', 'District',\n",
    "                        'Location_name', 'Returnee Individuals', 'Returnee Families',\n",
    "                        'Arabic Name'], inplace=True)"
   ]
  },
  {
   "cell_type": "code",
   "execution_count": 53,
   "id": "presidential-retro",
   "metadata": {},
   "outputs": [],
   "source": [
    "master_df['date'] = master_df['date'].apply(lambda x: x.toordinal())\n",
    "master_df.fillna(0, inplace=True)"
   ]
  },
  {
   "cell_type": "code",
   "execution_count": 54,
   "id": "fixed-permission",
   "metadata": {},
   "outputs": [
    {
     "data": {
      "text/plain": [
       "Index(['Location ID', 'Place_ID', 'from_Anbar', 'from_Babylon', 'from_Baghdad',\n",
       "       'from_Basrah', 'from_Dahuk', 'from_Diyala', 'from_Erbil',\n",
       "       'from_Kerbala', 'from_Kirkuk', 'from_Missan', 'from_Muthanna',\n",
       "       'from_Najaf', 'from_Ninewa', 'from_Qadissiya', 'from_Salahal Din',\n",
       "       'Sulaymaniyah', 'Thi Qar', 'Wassit', 'ret_camp',\n",
       "       'ret_Habitual Pre_31_October2018', 'ret_Habitual Residence (Habitable)',\n",
       "       'ret_Habitual Residence (Uninhabitable)', 'ret_Host_families',\n",
       "       'ret_Hotel_Motel', 'ret_Informal_settlements', 'ret_Other',\n",
       "       'ret_Religious_building', 'ret_Rented_houses', 'ret_School_building',\n",
       "       'ret_Unfinished_Abandoned_building', 'ret_Unknown_shelter_type',\n",
       "       'disp_preJun14', 'disp_JunJuly14', 'disp_Aug14', 'disp_postSep14',\n",
       "       'disp_postApr15', 'disp_postMar16', 'disp_post17Oct16', 'disp_Jul17',\n",
       "       'disp_Jan19', 'date', 'inflow', 'outflow', 'Individuals', 'to_Anbar',\n",
       "       'to_Babylon', 'to_Baghdad', 'to_Basrah', 'to_Dahuk', 'to_Diyala',\n",
       "       'to_Erbil', 'to_Kerbala', 'to_Kirkuk', 'to_Missan', 'to_Muthana',\n",
       "       'to_Najaf', 'to_Ninewa', 'to_Qadissiya', 'to_Salahal Din',\n",
       "       'to_Sulaymaniyah', 'to_Thi Qar', 'to_Wassit', 'out_Camp',\n",
       "       'out_Hostfamilies', 'out_Hotel Motel', 'out_Informalsettlements',\n",
       "       'out_Own Property', 'out_Other', 'out_Religiousbuilding',\n",
       "       'out_Rented pre Apr 2019', 'Rented Habitable', 'Rented Uninhabitable',\n",
       "       'out_Schoolbuilding', 'out_Unfinishedbuilding',\n",
       "       'out_Unknownsheltertype'],\n",
       "      dtype='object')"
      ]
     },
     "execution_count": 54,
     "metadata": {},
     "output_type": "execute_result"
    }
   ],
   "source": [
    "master_df.columns"
   ]
  },
  {
   "cell_type": "code",
   "execution_count": 55,
   "id": "flexible-bathroom",
   "metadata": {},
   "outputs": [],
   "source": [
    "X = master_df.drop(columns=['inflow'])\n",
    "y = master_df['inflow']"
   ]
  },
  {
   "cell_type": "code",
   "execution_count": 56,
   "id": "owned-import",
   "metadata": {},
   "outputs": [],
   "source": [
    "X_train, X_test, y_train, y_test = train_test_split(X, y)"
   ]
  },
  {
   "cell_type": "code",
   "execution_count": 57,
   "id": "revised-frank",
   "metadata": {},
   "outputs": [
    {
     "name": "stdout",
     "output_type": "stream",
     "text": [
      "CPU times: user 10min 9s, sys: 7.76 s, total: 10min 17s\n",
      "Wall time: 10min 53s\n"
     ]
    },
    {
     "data": {
      "text/plain": [
       "RandomForestRegressor()"
      ]
     },
     "execution_count": 57,
     "metadata": {},
     "output_type": "execute_result"
    }
   ],
   "source": [
    "%%time\n",
    "rf = RandomForestRegressor()\n",
    "rf.fit(X_train, y_train)"
   ]
  },
  {
   "cell_type": "code",
   "execution_count": 58,
   "id": "engaging-links",
   "metadata": {},
   "outputs": [
    {
     "name": "stdout",
     "output_type": "stream",
     "text": [
      "accuracy score: 0.9276870077994342\n"
     ]
    }
   ],
   "source": [
    "print(\"accuracy score:\", rf.score(X_test, y_test))"
   ]
  },
  {
   "cell_type": "code",
   "execution_count": 59,
   "id": "quality-moment",
   "metadata": {},
   "outputs": [
    {
     "ename": "NameError",
     "evalue": "name 'y_predict' is not defined",
     "output_type": "error",
     "traceback": [
      "\u001b[0;31m---------------------------------------------------------------------------\u001b[0m",
      "\u001b[0;31mNameError\u001b[0m                                 Traceback (most recent call last)",
      "\u001b[0;32m<ipython-input-59-8ef366d25f93>\u001b[0m in \u001b[0;36m<module>\u001b[0;34m\u001b[0m\n\u001b[0;32m----> 1\u001b[0;31m \u001b[0mprint\u001b[0m\u001b[0;34m(\u001b[0m\u001b[0;34m\"\\n10. precision:\"\u001b[0m\u001b[0;34m,\u001b[0m \u001b[0mprecision_score\u001b[0m\u001b[0;34m(\u001b[0m\u001b[0my_test\u001b[0m\u001b[0;34m,\u001b[0m \u001b[0my_predict\u001b[0m\u001b[0;34m)\u001b[0m\u001b[0;34m)\u001b[0m\u001b[0;34m\u001b[0m\u001b[0;34m\u001b[0m\u001b[0m\n\u001b[0m\u001b[1;32m      2\u001b[0m \u001b[0mprint\u001b[0m\u001b[0;34m(\u001b[0m\u001b[0;34m\"    recall:\"\u001b[0m\u001b[0;34m,\u001b[0m \u001b[0mrecall_score\u001b[0m\u001b[0;34m(\u001b[0m\u001b[0my_test\u001b[0m\u001b[0;34m,\u001b[0m \u001b[0my_predict\u001b[0m\u001b[0;34m)\u001b[0m\u001b[0;34m)\u001b[0m\u001b[0;34m\u001b[0m\u001b[0;34m\u001b[0m\u001b[0m\n\u001b[1;32m      3\u001b[0m \u001b[0;34m\u001b[0m\u001b[0m\n",
      "\u001b[0;31mNameError\u001b[0m: name 'y_predict' is not defined"
     ]
    }
   ],
   "source": [
    "\n",
    "print(\"\\n10. precision:\", precision_score(y_test, y_predict))\n",
    "print(\"    recall:\", recall_score(y_test, y_predict))\n",
    "\n"
   ]
  },
  {
   "cell_type": "code",
   "execution_count": null,
   "id": "packed-housing",
   "metadata": {},
   "outputs": [],
   "source": [
    "for ix, coord in enumerate(zip(conflict_df['latitude'], conflict_df['longitude'])):\n",
    "    for idx, rcoord in enumerate(zip(ret_df['Latitude'], ret_df['Longitude'])):\n",
    "        if geopy.distance.distance(coord, rcoord).km > 10:\n",
    "            print(idx)\n",
    "            ser[idx] += 1\n",
    "        else:\n",
    "            print(idx)"
   ]
  }
 ],
 "metadata": {
  "kernelspec": {
   "display_name": "Python 3",
   "language": "python",
   "name": "python3"
  },
  "language_info": {
   "codemirror_mode": {
    "name": "ipython",
    "version": 3
   },
   "file_extension": ".py",
   "mimetype": "text/x-python",
   "name": "python",
   "nbconvert_exporter": "python",
   "pygments_lexer": "ipython3",
   "version": "3.9.1"
  }
 },
 "nbformat": 4,
 "nbformat_minor": 5
}
