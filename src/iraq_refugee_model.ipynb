{
 "cells": [
  {
   "cell_type": "code",
   "execution_count": 1,
   "id": "virgin-deputy",
   "metadata": {},
   "outputs": [],
   "source": [
    "import pandas as pd\n",
    "import numpy as np\n",
    "import matplotlib.pyplot as plt\n",
    "from os import listdir\n",
    "import geopy.distance\n",
    "\n"
   ]
  },
  {
   "cell_type": "code",
   "execution_count": 8,
   "id": "random-paradise",
   "metadata": {},
   "outputs": [],
   "source": [
    "conflict_df = pd.read_csv('../data/conflict_data_irq.csv')"
   ]
  },
  {
   "cell_type": "code",
   "execution_count": 9,
   "id": "temporal-surge",
   "metadata": {},
   "outputs": [],
   "source": [
    "conflict_df.drop(0, inplace=True)"
   ]
  },
  {
   "cell_type": "code",
   "execution_count": 10,
   "id": "arctic-jurisdiction",
   "metadata": {},
   "outputs": [
    {
     "data": {
      "text/plain": [
       "Index(['id', 'year', 'active_year', 'start_year', 'end_year',\n",
       "       'type_of_violence', 'conflict_new_id', 'conflict_name', 'dyad_new_id',\n",
       "       'dyad_name', 'side_a_new_id', 'gwnoa', 'side_a', 'side_b_new_id',\n",
       "       'gwnob', 'side_b', 'number_of_sources', 'source_article',\n",
       "       'source_office', 'source_date', 'source_headline', 'source_original',\n",
       "       'where_prec', 'where_coordinates', 'adm_1', 'adm_2', 'latitude',\n",
       "       'longitude', 'geom_wkt', 'priogrid_gid', 'country', 'country_id',\n",
       "       'iso3', 'region', 'event_clarity', 'date_prec', 'date_start',\n",
       "       'date_end', 'deaths_a', 'deaths_b', 'deaths_civilians',\n",
       "       'deaths_unknown', 'low', 'best', 'high'],\n",
       "      dtype='object')"
      ]
     },
     "execution_count": 10,
     "metadata": {},
     "output_type": "execute_result"
    }
   ],
   "source": [
    "conflict_df.columns"
   ]
  },
  {
   "cell_type": "code",
   "execution_count": 11,
   "id": "inside-rebate",
   "metadata": {},
   "outputs": [],
   "source": [
    "conflict_df.replace({'Al Anbār province':'Anbar',\n",
    "                            'Nīnawá province':'Ninewa',\n",
    "                           'Baghdād province':'Baghdad', \n",
    "                            'Dahūk province':'Dahuk', \n",
    "                          'Diyālá province':'Diyala',\n",
    "                           'Kirkūk province':'Kirkuk',\n",
    "                           'Şalāḩ ad Dīn province':'Salah al-Din'}, inplace=True)"
   ]
  },
  {
   "cell_type": "code",
   "execution_count": 12,
   "id": "original-hobby",
   "metadata": {},
   "outputs": [],
   "source": [
    "gov_names = ['Anbar', 'Ninewa', 'Baghdad', 'Dahuk', 'Diyala', 'Salah al-Din']"
   ]
  },
  {
   "cell_type": "code",
   "execution_count": null,
   "id": "rolled-quilt",
   "metadata": {},
   "outputs": [],
   "source": [
    "conflict"
   ]
  },
  {
   "cell_type": "code",
   "execution_count": 6,
   "id": "seeing-garden",
   "metadata": {},
   "outputs": [],
   "source": [
    "conflict_df = conflict_df[conflict_df['adm_1'].isin(gov_names)]\n"
   ]
  },
  {
   "cell_type": "code",
   "execution_count": 7,
   "id": "varying-marking",
   "metadata": {},
   "outputs": [
    {
     "data": {
      "text/plain": [
       "array([], dtype=object)"
      ]
     },
     "execution_count": 7,
     "metadata": {},
     "output_type": "execute_result"
    }
   ],
   "source": [
    "conflict_df['adm_1'].unique()"
   ]
  },
  {
   "cell_type": "code",
   "execution_count": null,
   "id": "innocent-joseph",
   "metadata": {},
   "outputs": [],
   "source": [
    "conflict_df['adm_1'].unique()"
   ]
  },
  {
   "cell_type": "code",
   "execution_count": null,
   "id": "broad-damage",
   "metadata": {},
   "outputs": [],
   "source": [
    "returnee_filepaths = [f for f in listdir(\"../data/returnees/\") if f.endswith('.xlsx')]\n"
   ]
  },
  {
   "cell_type": "code",
   "execution_count": null,
   "id": "relevant-mounting",
   "metadata": {},
   "outputs": [],
   "source": [
    "\n",
    "# master_filepaths = [s for s in listdir(\"../data/master_list/\") if s.endswith('.xlsx')]\n",
    "# mas_df = pd.concat((pd.read_excel(\"../data/master_list/\"+s).assign(date=s[31:43]) \n",
    "#                    for s in master_filepaths), ignore_index=True) \n",
    "#mas_df['date'] = pd.to_datetime(mas_df['date'])"
   ]
  },
  {
   "cell_type": "code",
   "execution_count": null,
   "id": "legendary-horizontal",
   "metadata": {},
   "outputs": [],
   "source": [
    "ret_df = pd.concat((pd.read_excel(\"../data/returnees/\"+f).assign(date=f[35:47])\n",
    "                  for f in returnee_filepaths), ignore_index=True)"
   ]
  },
  {
   "cell_type": "code",
   "execution_count": null,
   "id": "pleasant-plain",
   "metadata": {},
   "outputs": [],
   "source": [
    "ret_df['District'].unique()"
   ]
  },
  {
   "cell_type": "code",
   "execution_count": null,
   "id": "quick-singing",
   "metadata": {},
   "outputs": [],
   "source": [
    "ret_df['Governorate'].unique()"
   ]
  },
  {
   "cell_type": "code",
   "execution_count": null,
   "id": "geological-pontiac",
   "metadata": {},
   "outputs": [],
   "source": [
    "ret_df.dropna(how='all', inplace=True)"
   ]
  },
  {
   "cell_type": "code",
   "execution_count": null,
   "id": "burning-spencer",
   "metadata": {},
   "outputs": [],
   "source": [
    "ret_df['date'] = pd.to_datetime(ret_df['date'])"
   ]
  },
  {
   "cell_type": "code",
   "execution_count": null,
   "id": "inside-jurisdiction",
   "metadata": {},
   "outputs": [],
   "source": [
    "def trim_all_columns(df):\n",
    "    \"\"\"\n",
    "    Trim whitespace from ends of each value across all series in dataframe\n",
    "    \"\"\"\n",
    "    trim_strings = lambda x: x.strip() if isinstance(x, str) else x\n",
    "    return df.applymap(trim_strings)\n",
    "\n"
   ]
  },
  {
   "cell_type": "code",
   "execution_count": null,
   "id": "powerful-allowance",
   "metadata": {},
   "outputs": [],
   "source": [
    "ret_df = trim_all_columns(ret_df)"
   ]
  },
  {
   "cell_type": "code",
   "execution_count": null,
   "id": "reported-backing",
   "metadata": {},
   "outputs": [],
   "source": [
    "ret_df.columns"
   ]
  },
  {
   "cell_type": "code",
   "execution_count": null,
   "id": "equal-hospital",
   "metadata": {},
   "outputs": [],
   "source": [
    "\n",
    "ret_df.sort_values(['Location_name', 'date'], inplace=True)\n",
    "\n",
    "\n"
   ]
  },
  {
   "cell_type": "code",
   "execution_count": null,
   "id": "major-horse",
   "metadata": {},
   "outputs": [],
   "source": [
    "ret_df.rename(columns={'Pre June14 Period of displacement':'disp_preJun14',\n",
    "                      'June July14 Period of displacement':'disp_JunJuly14',\n",
    "                      'August14 Period of displacement':'disp_Aug14',\n",
    "                      'Post September 14 Period of displacement':'disp_postSep14',\n",
    "                      'Post April15 Period of displacement':'disp_postApr15',\n",
    "                      'Post March 16 Period of displacement':'disp_postMar16',\n",
    "                      'Post 17 October 16 Period of displacement': 'disp_post17Oct16',\n",
    "                      'July 17 Period of displacement':'disp_Jul17',\n",
    "                      'Jan19':'disp_Jan19'}, inplace=True)"
   ]
  },
  {
   "cell_type": "code",
   "execution_count": null,
   "id": "backed-sending",
   "metadata": {},
   "outputs": [],
   "source": [
    "ret_df"
   ]
  },
  {
   "cell_type": "code",
   "execution_count": null,
   "id": "sweet-orientation",
   "metadata": {},
   "outputs": [],
   "source": [
    "ret_df.dropna(how='any', inplace=True)"
   ]
  },
  {
   "cell_type": "code",
   "execution_count": null,
   "id": "upset-hours",
   "metadata": {},
   "outputs": [],
   "source": [
    "ret_df['ret_delta'] = ret_df.groupby(['Location_name'])['Returnee Families'].transform(lambda x: x.diff()) \n",
    "\n"
   ]
  },
  {
   "cell_type": "code",
   "execution_count": null,
   "id": "thermal-primary",
   "metadata": {},
   "outputs": [],
   "source": [
    "ret_df.sort_values(['Location_name', 'date'], inplace=True)"
   ]
  },
  {
   "cell_type": "code",
   "execution_count": null,
   "id": "interracial-rental",
   "metadata": {},
   "outputs": [],
   "source": [
    "ret_df.reset_index(inplace=True)"
   ]
  },
  {
   "cell_type": "code",
   "execution_count": null,
   "id": "educated-dealing",
   "metadata": {},
   "outputs": [],
   "source": [
    "#ret_df.remove(column='index')"
   ]
  },
  {
   "cell_type": "code",
   "execution_count": null,
   "id": "junior-crisis",
   "metadata": {},
   "outputs": [],
   "source": [
    "ret_df"
   ]
  },
  {
   "cell_type": "code",
   "execution_count": null,
   "id": "liquid-sweet",
   "metadata": {
    "scrolled": true
   },
   "outputs": [],
   "source": [
    "ret_df[ret_df['Location_name'] == 'Gwer']"
   ]
  },
  {
   "cell_type": "code",
   "execution_count": null,
   "id": "unable-provider",
   "metadata": {},
   "outputs": [],
   "source": [
    "ret_df.at[14022, 'ret_delta']"
   ]
  },
  {
   "cell_type": "code",
   "execution_count": null,
   "id": "sunset-bahamas",
   "metadata": {},
   "outputs": [],
   "source": [
    "#should be functionized \n",
    "for i in range(len(ret_df)):\n",
    "    if np.isnan(ret_df.at[i, 'ret_delta']):\n",
    "        ret_df.at[i, 'ret_delta'] = ret_df.at[i, 'Returnee Families']\n",
    "    else:\n",
    "        None"
   ]
  },
  {
   "cell_type": "code",
   "execution_count": null,
   "id": "comic-surname",
   "metadata": {},
   "outputs": [],
   "source": [
    "ret_df[ret_df['Location_name'] == 'Gwer']"
   ]
  },
  {
   "cell_type": "code",
   "execution_count": null,
   "id": "medieval-might",
   "metadata": {},
   "outputs": [],
   "source": [
    "conflict_df.columns"
   ]
  },
  {
   "cell_type": "code",
   "execution_count": null,
   "id": "fluid-halloween",
   "metadata": {},
   "outputs": [],
   "source": [
    "conflict_df['date_start'] = pd.to_datetime(conflict_df['date_start'])"
   ]
  },
  {
   "cell_type": "code",
   "execution_count": null,
   "id": "fitted-miller",
   "metadata": {},
   "outputs": [],
   "source": [
    "conflict_df['date_end'] = pd.to_datetime(conflict_df['date_start'])"
   ]
  },
  {
   "cell_type": "code",
   "execution_count": null,
   "id": "brilliant-stack",
   "metadata": {
    "scrolled": true
   },
   "outputs": [],
   "source": [
    "conflict_df.columns"
   ]
  },
  {
   "cell_type": "code",
   "execution_count": null,
   "id": "identified-parliament",
   "metadata": {},
   "outputs": [],
   "source": [
    "conflict_df['adm_2'].unique()\n"
   ]
  },
  {
   "cell_type": "code",
   "execution_count": null,
   "id": "essential-treat",
   "metadata": {},
   "outputs": [],
   "source": [
    "ser = pd.Series(index=ret_df.index, data=0)"
   ]
  },
  {
   "cell_type": "code",
   "execution_count": null,
   "id": "hidden-craft",
   "metadata": {},
   "outputs": [],
   "source": [
    "ret_df['District'].unique()"
   ]
  },
  {
   "cell_type": "code",
   "execution_count": null,
   "id": "normal-newton",
   "metadata": {},
   "outputs": [],
   "source": [
    "print(7473*26000)"
   ]
  },
  {
   "cell_type": "code",
   "execution_count": null,
   "id": "packed-housing",
   "metadata": {},
   "outputs": [],
   "source": [
    "for ix, coord in enumerate(zip(conflict_df['latitude'], conflict_df['longitude'])):\n",
    "    for idx, rcoord in enumerate(zip(ret_df['Latitude'], ret_df['Longitude'])):\n",
    "        if geopy.distance.distance(coord, rcoord).km > 10:\n",
    "            print(idx)\n",
    "            ser[idx] += 1\n",
    "        else:\n",
    "            print(idx)"
   ]
  }
 ],
 "metadata": {
  "kernelspec": {
   "display_name": "Python 3",
   "language": "python",
   "name": "python3"
  },
  "language_info": {
   "codemirror_mode": {
    "name": "ipython",
    "version": 3
   },
   "file_extension": ".py",
   "mimetype": "text/x-python",
   "name": "python",
   "nbconvert_exporter": "python",
   "pygments_lexer": "ipython3",
   "version": "3.9.1"
  }
 },
 "nbformat": 4,
 "nbformat_minor": 5
}
