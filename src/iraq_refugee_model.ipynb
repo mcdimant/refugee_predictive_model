{
 "cells": [
  {
   "cell_type": "code",
   "execution_count": 1,
   "id": "virgin-deputy",
   "metadata": {},
   "outputs": [],
   "source": [
    "import pandas as pd\n",
    "import numpy as np\n",
    "import matplotlib.pyplot as plt\n",
    "from os import listdir\n",
    "import geopy.distance\n",
    "\n"
   ]
  },
  {
   "cell_type": "code",
   "execution_count": 2,
   "id": "random-paradise",
   "metadata": {},
   "outputs": [],
   "source": [
    "conflict_df = pd.read_csv('../data/conflict_data_irq.csv')\n",
    "conflict_df.drop(0, inplace=True)\n",
    "conflict_df['date_start'] = pd.to_datetime(conflict_df['date_start'])\n",
    "conflict_df['date_end'] = pd.to_datetime(conflict_df['date_start'])"
   ]
  },
  {
   "cell_type": "code",
   "execution_count": 3,
   "id": "temporal-surge",
   "metadata": {},
   "outputs": [],
   "source": [
    "conflict_df.replace(to_replace={'Al Anbār province':'Anbar',\n",
    "                            'Nīnawá province':'Ninewa',\n",
    "                           'Baghdād province':'Baghdad', \n",
    "                            'Dahūk province':'Dahuk', \n",
    "                          'Diyālá province':'Diyala',\n",
    "                           'Kirkūk province':'Kirkuk',\n",
    "                           'Şalāḩ ad Dīn province':'Salah al-Din'}, inplace=True)"
   ]
  },
  {
   "cell_type": "code",
   "execution_count": 4,
   "id": "exotic-insurance",
   "metadata": {},
   "outputs": [],
   "source": [
    "conflict_df.replace(to_replace={'Abū Ghurayb district':'Abu Ghraib',\n",
    "'Al Ba‘āj district':\"Al-Ba'aj\",\n",
    "'Al Qā’im district':\"Al-Ka'im\",\n",
    "'Al-Faris district':'Al-Fares',\n",
    "'Hīt district':'Heet',\n",
    "'Qaḑā’ ‘Ānah':'Ana',\n",
    "'Qaḑā’ ad Dawr':'Al-Daur',\n",
    "'Qaḑā’ al Fallūjah':'Falluja',\n",
    "'Qaḑā’ al Ḩaḑr':'Hatra',\n",
    "'Qaḑā’ al Ḩamdānīyah':'Al-Hamdaniya',\n",
    "'Qaḑā’ al Khāliş':'Al-Khalis',\n",
    "'Qaḑā’ al Maḩmūdīyah':'Mahmoudiya',\n",
    "'Qaḑā’ al Mawşil':'Mosul',\n",
    "'Qaḑā’ al Miqdādīyah':'Al-Muqdadiya',\n",
    "'Qaḑā’ ar Ramādī':'Ramadi',\n",
    "'Qaḑā’ ar Ruţbah':'Al-Rutba',\n",
    "'Qaḑā’ ash Shaykhān':'Al-Shikhan',\n",
    "'Qaḑā’ Balad':'Balad',\n",
    "'Qaḑā’ Bayjī':'Baiji',\n",
    "'Qaḑā’ Haditha':'Haditha',\n",
    "'Qaḑā’ Khānaqīn':'Khanaqin',\n",
    "'Qaḑā’ Kifrī':'Kifri',\n",
    "'Qaḑā’ Sāmarrā':'Samarra',\n",
    "'Qaḑā’ Sharqāţ':'Al-Shirqat',\n",
    "'Qaḑā’ Tall ‘Afar':'Telafar',\n",
    "'Qaḑā’ Tikrīt':'Tikrit',\n",
    "'Qaḑā’ Zākhū':'Zakho',\n",
    "'Sinjār district':'Sinjar',\n",
    "'Tallkayf district':'Tilkaif',\n",
    "'Tooz district':'Tuz Khurmatu',\n",
    "'Zakho district':'Zakho'}, inplace=True)"
   ]
  },
  {
   "cell_type": "code",
   "execution_count": 5,
   "id": "demanding-track",
   "metadata": {},
   "outputs": [],
   "source": [
    "gov_names = ['Anbar', 'Ninewa', 'Baghdad', 'Dahuk', 'Diyala', 'Salah al-Din']"
   ]
  },
  {
   "cell_type": "code",
   "execution_count": 6,
   "id": "central-gasoline",
   "metadata": {},
   "outputs": [],
   "source": [
    "district_names = ['Abu Ghraib', \"Al-Ba'aj\", \"Al-Ka'im\", 'Al-Fares', 'Heet', 'Ana', 'Al-Daur',\n",
    "'Falluja', 'Hatra', 'Al-Hamdaniya', 'Al-Khalis', 'Mahmoudiya', 'Mosul', 'Al-Muqdadiya', 'Ramadi',\n",
    "'Al-Rutba', 'Al-Shikhan', 'Balad', 'Baiji', 'Haditha', 'Khanaqin', 'Kifri', 'Samarra', \n",
    "'Al-Shirqat', 'Telafar', 'Tikrit', 'Zakho', 'Sinjar', 'Tilkaif', 'Tuz Khurmatu','Zakho']"
   ]
  },
  {
   "cell_type": "code",
   "execution_count": 7,
   "id": "overall-parade",
   "metadata": {},
   "outputs": [],
   "source": [
    "conflict_df = conflict_df[conflict_df['adm_1'].isin(gov_names)]\n",
    "conflict_df = conflict_df[conflict_df['adm_2'].isin(district_names)]"
   ]
  },
  {
   "cell_type": "code",
   "execution_count": 8,
   "id": "relevant-mounting",
   "metadata": {},
   "outputs": [
    {
     "name": "stdout",
     "output_type": "stream",
     "text": [
      "CPU times: user 4.23 s, sys: 969 ms, total: 5.2 s\n",
      "Wall time: 6.14 s\n"
     ]
    }
   ],
   "source": [
    "%%time\n",
    "outflow_filepaths = [s for s in listdir(\"../data/out/\")]\n",
    "out_df = pd.concat((pd.read_csv(\"../data/out/\"+s) for s in outflow_filepaths), ignore_index=True) \n"
   ]
  },
  {
   "cell_type": "code",
   "execution_count": 9,
   "id": "authentic-boulder",
   "metadata": {},
   "outputs": [],
   "source": [
    "out_df['date'] = pd.to_datetime(out_df['date'])\n",
    "out_df.rename(columns={'Location Name':'Location_name'})\n",
    "out_df = out_df[out_df['District'].isin(district_names)]"
   ]
  },
  {
   "cell_type": "code",
   "execution_count": 10,
   "id": "legendary-horizontal",
   "metadata": {},
   "outputs": [
    {
     "name": "stdout",
     "output_type": "stream",
     "text": [
      "CPU times: user 2min 7s, sys: 2.11 s, total: 2min 9s\n",
      "Wall time: 2min 16s\n"
     ]
    }
   ],
   "source": [
    "%%time\n",
    "returnee_filepaths = [f for f in listdir(\"../data/returnees/\") if f.endswith('.xlsx')]\n",
    "ret_df = pd.concat((pd.read_excel(\"../data/returnees/\"+f).assign(date=f[35:47])\n",
    "                  for f in returnee_filepaths), ignore_index=True)"
   ]
  },
  {
   "cell_type": "code",
   "execution_count": 11,
   "id": "exclusive-whole",
   "metadata": {},
   "outputs": [],
   "source": [
    "ret_df.rename(columns={'Pre June14 Period of displacement':'disp_preJun14',\n",
    "                      'June July14 Period of displacement':'disp_JunJuly14',\n",
    "                      'August14 Period of displacement':'disp_Aug14',\n",
    "                      'Post September 14 Period of displacement':'disp_postSep14',\n",
    "                      'Post April15 Period of displacement':'disp_postApr15',\n",
    "                      'Post March 16 Period of displacement':'disp_postMar16',\n",
    "                      'Post 17 October 16 Period of displacement': 'disp_post17Oct16',\n",
    "                      'July 17 Period of displacement':'disp_Jul17',\n",
    "                      'Jan19':'disp_Jan19'}, inplace=True)"
   ]
  },
  {
   "cell_type": "code",
   "execution_count": 12,
   "id": "geological-pontiac",
   "metadata": {},
   "outputs": [],
   "source": [
    "ret_df.dropna(how='all', inplace=True)\n",
    "ret_df['date'] = pd.to_datetime(ret_df['date'])"
   ]
  },
  {
   "cell_type": "code",
   "execution_count": 13,
   "id": "inside-jurisdiction",
   "metadata": {},
   "outputs": [],
   "source": [
    "def trim_all_columns(df):\n",
    "    \"\"\"\n",
    "    Trim whitespace from ends of each value across all series in dataframe\n",
    "    \"\"\"\n",
    "    trim_strings = lambda x: x.strip() if isinstance(x, str) else x\n",
    "    return df.applymap(trim_strings)\n",
    "\n"
   ]
  },
  {
   "cell_type": "code",
   "execution_count": 14,
   "id": "powerful-allowance",
   "metadata": {},
   "outputs": [],
   "source": [
    "ret_df = trim_all_columns(ret_df)\n",
    "out_df = trim_all_columns(out_df)"
   ]
  },
  {
   "cell_type": "code",
   "execution_count": 15,
   "id": "equal-hospital",
   "metadata": {},
   "outputs": [],
   "source": [
    "ret_df.sort_values(['Location_name', 'date'], inplace=True)"
   ]
  },
  {
   "cell_type": "code",
   "execution_count": 16,
   "id": "backed-sending",
   "metadata": {},
   "outputs": [],
   "source": [
    "ret_df.dropna(how='any', inplace=True)"
   ]
  },
  {
   "cell_type": "code",
   "execution_count": 17,
   "id": "upset-hours",
   "metadata": {},
   "outputs": [],
   "source": [
    "ret_df['ret_delta'] = ret_df.groupby(['Location_name'])['Returnee Families'].transform(lambda x: x.diff()) \n",
    "\n"
   ]
  },
  {
   "cell_type": "code",
   "execution_count": 18,
   "id": "thermal-primary",
   "metadata": {},
   "outputs": [],
   "source": [
    "ret_df.sort_values(['Location_name', 'date'], inplace=True)\n",
    "ret_df.reset_index(inplace=True)\n",
    "ret_df.drop(columns='index', axis=1, inplace=True)"
   ]
  },
  {
   "cell_type": "code",
   "execution_count": 19,
   "id": "sunset-bahamas",
   "metadata": {},
   "outputs": [],
   "source": [
    "#should be functionized \n",
    "for i in range(len(ret_df)):\n",
    "    if np.isnan(ret_df.at[i, 'ret_delta']):\n",
    "        ret_df.at[i, 'ret_delta'] = ret_df.at[i, 'Returnee Families']\n",
    "    else:\n",
    "        None"
   ]
  },
  {
   "cell_type": "code",
   "execution_count": 26,
   "id": "delayed-association",
   "metadata": {},
   "outputs": [],
   "source": [
    "out_df['out_delta'] = out_df.groupby(['Location Name'])['Families'].transform(lambda x: x.diff()) \n"
   ]
  },
  {
   "cell_type": "code",
   "execution_count": 41,
   "id": "impressed-thomas",
   "metadata": {},
   "outputs": [
    {
     "ename": "KeyError",
     "evalue": "0",
     "output_type": "error",
     "traceback": [
      "\u001b[0;31m---------------------------------------------------------------------------\u001b[0m",
      "\u001b[0;31mKeyError\u001b[0m                                  Traceback (most recent call last)",
      "\u001b[0;32m/Library/Frameworks/Python.framework/Versions/3.9/lib/python3.9/site-packages/pandas/core/indexes/base.py\u001b[0m in \u001b[0;36mget_loc\u001b[0;34m(self, key, method, tolerance)\u001b[0m\n\u001b[1;32m   3079\u001b[0m             \u001b[0;32mtry\u001b[0m\u001b[0;34m:\u001b[0m\u001b[0;34m\u001b[0m\u001b[0;34m\u001b[0m\u001b[0m\n\u001b[0;32m-> 3080\u001b[0;31m                 \u001b[0;32mreturn\u001b[0m \u001b[0mself\u001b[0m\u001b[0;34m.\u001b[0m\u001b[0m_engine\u001b[0m\u001b[0;34m.\u001b[0m\u001b[0mget_loc\u001b[0m\u001b[0;34m(\u001b[0m\u001b[0mcasted_key\u001b[0m\u001b[0;34m)\u001b[0m\u001b[0;34m\u001b[0m\u001b[0;34m\u001b[0m\u001b[0m\n\u001b[0m\u001b[1;32m   3081\u001b[0m             \u001b[0;32mexcept\u001b[0m \u001b[0mKeyError\u001b[0m \u001b[0;32mas\u001b[0m \u001b[0merr\u001b[0m\u001b[0;34m:\u001b[0m\u001b[0;34m\u001b[0m\u001b[0;34m\u001b[0m\u001b[0m\n",
      "\u001b[0;32mpandas/_libs/index.pyx\u001b[0m in \u001b[0;36mpandas._libs.index.IndexEngine.get_loc\u001b[0;34m()\u001b[0m\n",
      "\u001b[0;32mpandas/_libs/index.pyx\u001b[0m in \u001b[0;36mpandas._libs.index.IndexEngine.get_loc\u001b[0;34m()\u001b[0m\n",
      "\u001b[0;32mpandas/_libs/hashtable_class_helper.pxi\u001b[0m in \u001b[0;36mpandas._libs.hashtable.Int64HashTable.get_item\u001b[0;34m()\u001b[0m\n",
      "\u001b[0;32mpandas/_libs/hashtable_class_helper.pxi\u001b[0m in \u001b[0;36mpandas._libs.hashtable.Int64HashTable.get_item\u001b[0;34m()\u001b[0m\n",
      "\u001b[0;31mKeyError\u001b[0m: 0",
      "\nThe above exception was the direct cause of the following exception:\n",
      "\u001b[0;31mKeyError\u001b[0m                                  Traceback (most recent call last)",
      "\u001b[0;32m<ipython-input-41-86e3dd78c1b3>\u001b[0m in \u001b[0;36m<module>\u001b[0;34m\u001b[0m\n\u001b[1;32m      1\u001b[0m \u001b[0;32mfor\u001b[0m \u001b[0mi\u001b[0m \u001b[0;32min\u001b[0m \u001b[0mrange\u001b[0m\u001b[0;34m(\u001b[0m\u001b[0mlen\u001b[0m\u001b[0;34m(\u001b[0m\u001b[0mout_df\u001b[0m\u001b[0;34m)\u001b[0m\u001b[0;34m)\u001b[0m\u001b[0;34m:\u001b[0m\u001b[0;34m\u001b[0m\u001b[0;34m\u001b[0m\u001b[0m\n\u001b[0;32m----> 2\u001b[0;31m     \u001b[0;32mif\u001b[0m \u001b[0mnp\u001b[0m\u001b[0;34m.\u001b[0m\u001b[0misnan\u001b[0m\u001b[0;34m(\u001b[0m\u001b[0mout_df\u001b[0m\u001b[0;34m.\u001b[0m\u001b[0mat\u001b[0m\u001b[0;34m[\u001b[0m\u001b[0mi\u001b[0m\u001b[0;34m,\u001b[0m \u001b[0;34m'out_delta'\u001b[0m\u001b[0;34m]\u001b[0m\u001b[0;34m)\u001b[0m\u001b[0;34m:\u001b[0m\u001b[0;34m\u001b[0m\u001b[0;34m\u001b[0m\u001b[0m\n\u001b[0m\u001b[1;32m      3\u001b[0m         \u001b[0mout_df\u001b[0m\u001b[0;34m.\u001b[0m\u001b[0mat\u001b[0m\u001b[0;34m[\u001b[0m\u001b[0mi\u001b[0m\u001b[0;34m,\u001b[0m \u001b[0;34m'out_delta'\u001b[0m\u001b[0;34m]\u001b[0m \u001b[0;34m=\u001b[0m \u001b[0mout_df\u001b[0m\u001b[0;34m.\u001b[0m\u001b[0mat\u001b[0m\u001b[0;34m[\u001b[0m\u001b[0mi\u001b[0m\u001b[0;34m,\u001b[0m \u001b[0;34m'Families'\u001b[0m\u001b[0;34m]\u001b[0m\u001b[0;34m\u001b[0m\u001b[0;34m\u001b[0m\u001b[0m\n\u001b[1;32m      4\u001b[0m     \u001b[0;32melse\u001b[0m\u001b[0;34m:\u001b[0m\u001b[0;34m\u001b[0m\u001b[0;34m\u001b[0m\u001b[0m\n\u001b[1;32m      5\u001b[0m         \u001b[0;32mNone\u001b[0m\u001b[0;34m\u001b[0m\u001b[0;34m\u001b[0m\u001b[0m\n",
      "\u001b[0;32m/Library/Frameworks/Python.framework/Versions/3.9/lib/python3.9/site-packages/pandas/core/indexing.py\u001b[0m in \u001b[0;36m__getitem__\u001b[0;34m(self, key)\u001b[0m\n\u001b[1;32m   2154\u001b[0m             \u001b[0;32mreturn\u001b[0m \u001b[0mself\u001b[0m\u001b[0;34m.\u001b[0m\u001b[0mobj\u001b[0m\u001b[0;34m.\u001b[0m\u001b[0mloc\u001b[0m\u001b[0;34m[\u001b[0m\u001b[0mkey\u001b[0m\u001b[0;34m]\u001b[0m\u001b[0;34m\u001b[0m\u001b[0;34m\u001b[0m\u001b[0m\n\u001b[1;32m   2155\u001b[0m \u001b[0;34m\u001b[0m\u001b[0m\n\u001b[0;32m-> 2156\u001b[0;31m         \u001b[0;32mreturn\u001b[0m \u001b[0msuper\u001b[0m\u001b[0;34m(\u001b[0m\u001b[0;34m)\u001b[0m\u001b[0;34m.\u001b[0m\u001b[0m__getitem__\u001b[0m\u001b[0;34m(\u001b[0m\u001b[0mkey\u001b[0m\u001b[0;34m)\u001b[0m\u001b[0;34m\u001b[0m\u001b[0;34m\u001b[0m\u001b[0m\n\u001b[0m\u001b[1;32m   2157\u001b[0m \u001b[0;34m\u001b[0m\u001b[0m\n\u001b[1;32m   2158\u001b[0m     \u001b[0;32mdef\u001b[0m \u001b[0m__setitem__\u001b[0m\u001b[0;34m(\u001b[0m\u001b[0mself\u001b[0m\u001b[0;34m,\u001b[0m \u001b[0mkey\u001b[0m\u001b[0;34m,\u001b[0m \u001b[0mvalue\u001b[0m\u001b[0;34m)\u001b[0m\u001b[0;34m:\u001b[0m\u001b[0;34m\u001b[0m\u001b[0;34m\u001b[0m\u001b[0m\n",
      "\u001b[0;32m/Library/Frameworks/Python.framework/Versions/3.9/lib/python3.9/site-packages/pandas/core/indexing.py\u001b[0m in \u001b[0;36m__getitem__\u001b[0;34m(self, key)\u001b[0m\n\u001b[1;32m   2101\u001b[0m \u001b[0;34m\u001b[0m\u001b[0m\n\u001b[1;32m   2102\u001b[0m         \u001b[0mkey\u001b[0m \u001b[0;34m=\u001b[0m \u001b[0mself\u001b[0m\u001b[0;34m.\u001b[0m\u001b[0m_convert_key\u001b[0m\u001b[0;34m(\u001b[0m\u001b[0mkey\u001b[0m\u001b[0;34m)\u001b[0m\u001b[0;34m\u001b[0m\u001b[0;34m\u001b[0m\u001b[0m\n\u001b[0;32m-> 2103\u001b[0;31m         \u001b[0;32mreturn\u001b[0m \u001b[0mself\u001b[0m\u001b[0;34m.\u001b[0m\u001b[0mobj\u001b[0m\u001b[0;34m.\u001b[0m\u001b[0m_get_value\u001b[0m\u001b[0;34m(\u001b[0m\u001b[0;34m*\u001b[0m\u001b[0mkey\u001b[0m\u001b[0;34m,\u001b[0m \u001b[0mtakeable\u001b[0m\u001b[0;34m=\u001b[0m\u001b[0mself\u001b[0m\u001b[0;34m.\u001b[0m\u001b[0m_takeable\u001b[0m\u001b[0;34m)\u001b[0m\u001b[0;34m\u001b[0m\u001b[0;34m\u001b[0m\u001b[0m\n\u001b[0m\u001b[1;32m   2104\u001b[0m \u001b[0;34m\u001b[0m\u001b[0m\n\u001b[1;32m   2105\u001b[0m     \u001b[0;32mdef\u001b[0m \u001b[0m__setitem__\u001b[0m\u001b[0;34m(\u001b[0m\u001b[0mself\u001b[0m\u001b[0;34m,\u001b[0m \u001b[0mkey\u001b[0m\u001b[0;34m,\u001b[0m \u001b[0mvalue\u001b[0m\u001b[0;34m)\u001b[0m\u001b[0;34m:\u001b[0m\u001b[0;34m\u001b[0m\u001b[0;34m\u001b[0m\u001b[0m\n",
      "\u001b[0;32m/Library/Frameworks/Python.framework/Versions/3.9/lib/python3.9/site-packages/pandas/core/frame.py\u001b[0m in \u001b[0;36m_get_value\u001b[0;34m(self, index, col, takeable)\u001b[0m\n\u001b[1;32m   3142\u001b[0m         \u001b[0;31m# use positional\u001b[0m\u001b[0;34m\u001b[0m\u001b[0;34m\u001b[0m\u001b[0;34m\u001b[0m\u001b[0m\n\u001b[1;32m   3143\u001b[0m         \u001b[0mcol\u001b[0m \u001b[0;34m=\u001b[0m \u001b[0mself\u001b[0m\u001b[0;34m.\u001b[0m\u001b[0mcolumns\u001b[0m\u001b[0;34m.\u001b[0m\u001b[0mget_loc\u001b[0m\u001b[0;34m(\u001b[0m\u001b[0mcol\u001b[0m\u001b[0;34m)\u001b[0m\u001b[0;34m\u001b[0m\u001b[0;34m\u001b[0m\u001b[0m\n\u001b[0;32m-> 3144\u001b[0;31m         \u001b[0mindex\u001b[0m \u001b[0;34m=\u001b[0m \u001b[0mself\u001b[0m\u001b[0;34m.\u001b[0m\u001b[0mindex\u001b[0m\u001b[0;34m.\u001b[0m\u001b[0mget_loc\u001b[0m\u001b[0;34m(\u001b[0m\u001b[0mindex\u001b[0m\u001b[0;34m)\u001b[0m\u001b[0;34m\u001b[0m\u001b[0;34m\u001b[0m\u001b[0m\n\u001b[0m\u001b[1;32m   3145\u001b[0m         \u001b[0;32mreturn\u001b[0m \u001b[0mself\u001b[0m\u001b[0;34m.\u001b[0m\u001b[0m_get_value\u001b[0m\u001b[0;34m(\u001b[0m\u001b[0mindex\u001b[0m\u001b[0;34m,\u001b[0m \u001b[0mcol\u001b[0m\u001b[0;34m,\u001b[0m \u001b[0mtakeable\u001b[0m\u001b[0;34m=\u001b[0m\u001b[0;32mTrue\u001b[0m\u001b[0;34m)\u001b[0m\u001b[0;34m\u001b[0m\u001b[0;34m\u001b[0m\u001b[0m\n\u001b[1;32m   3146\u001b[0m \u001b[0;34m\u001b[0m\u001b[0m\n",
      "\u001b[0;32m/Library/Frameworks/Python.framework/Versions/3.9/lib/python3.9/site-packages/pandas/core/indexes/base.py\u001b[0m in \u001b[0;36mget_loc\u001b[0;34m(self, key, method, tolerance)\u001b[0m\n\u001b[1;32m   3080\u001b[0m                 \u001b[0;32mreturn\u001b[0m \u001b[0mself\u001b[0m\u001b[0;34m.\u001b[0m\u001b[0m_engine\u001b[0m\u001b[0;34m.\u001b[0m\u001b[0mget_loc\u001b[0m\u001b[0;34m(\u001b[0m\u001b[0mcasted_key\u001b[0m\u001b[0;34m)\u001b[0m\u001b[0;34m\u001b[0m\u001b[0;34m\u001b[0m\u001b[0m\n\u001b[1;32m   3081\u001b[0m             \u001b[0;32mexcept\u001b[0m \u001b[0mKeyError\u001b[0m \u001b[0;32mas\u001b[0m \u001b[0merr\u001b[0m\u001b[0;34m:\u001b[0m\u001b[0;34m\u001b[0m\u001b[0;34m\u001b[0m\u001b[0m\n\u001b[0;32m-> 3082\u001b[0;31m                 \u001b[0;32mraise\u001b[0m \u001b[0mKeyError\u001b[0m\u001b[0;34m(\u001b[0m\u001b[0mkey\u001b[0m\u001b[0;34m)\u001b[0m \u001b[0;32mfrom\u001b[0m \u001b[0merr\u001b[0m\u001b[0;34m\u001b[0m\u001b[0;34m\u001b[0m\u001b[0m\n\u001b[0m\u001b[1;32m   3083\u001b[0m \u001b[0;34m\u001b[0m\u001b[0m\n\u001b[1;32m   3084\u001b[0m         \u001b[0;32mif\u001b[0m \u001b[0mtolerance\u001b[0m \u001b[0;32mis\u001b[0m \u001b[0;32mnot\u001b[0m \u001b[0;32mNone\u001b[0m\u001b[0;34m:\u001b[0m\u001b[0;34m\u001b[0m\u001b[0;34m\u001b[0m\u001b[0m\n",
      "\u001b[0;31mKeyError\u001b[0m: 0"
     ]
    }
   ],
   "source": [
    "for i in range(len(out_df)):\n",
    "    if np.isnan(out_df.at[i, 'out_delta']):\n",
    "        out_df.at[i, 'out_delta'] = out_df.at[i, 'Families']\n",
    "    else:\n",
    "        None"
   ]
  },
  {
   "cell_type": "code",
   "execution_count": null,
   "id": "essential-treat",
   "metadata": {},
   "outputs": [],
   "source": [
    "ser = pd.Series(index=ret_df.index, data=0)"
   ]
  },
  {
   "cell_type": "code",
   "execution_count": null,
   "id": "cooperative-surprise",
   "metadata": {},
   "outputs": [],
   "source": [
    "ret_df['District'].unique()"
   ]
  },
  {
   "cell_type": "code",
   "execution_count": null,
   "id": "normal-newton",
   "metadata": {},
   "outputs": [],
   "source": [
    "print(7473*26000)"
   ]
  },
  {
   "cell_type": "code",
   "execution_count": null,
   "id": "packed-housing",
   "metadata": {},
   "outputs": [],
   "source": [
    "for ix, coord in enumerate(zip(conflict_df['latitude'], conflict_df['longitude'])):\n",
    "    for idx, rcoord in enumerate(zip(ret_df['Latitude'], ret_df['Longitude'])):\n",
    "        if geopy.distance.distance(coord, rcoord).km > 10:\n",
    "            print(idx)\n",
    "            ser[idx] += 1\n",
    "        else:\n",
    "            print(idx)"
   ]
  }
 ],
 "metadata": {
  "kernelspec": {
   "display_name": "Python 3",
   "language": "python",
   "name": "python3"
  },
  "language_info": {
   "codemirror_mode": {
    "name": "ipython",
    "version": 3
   },
   "file_extension": ".py",
   "mimetype": "text/x-python",
   "name": "python",
   "nbconvert_exporter": "python",
   "pygments_lexer": "ipython3",
   "version": "3.9.1"
  }
 },
 "nbformat": 4,
 "nbformat_minor": 5
}
