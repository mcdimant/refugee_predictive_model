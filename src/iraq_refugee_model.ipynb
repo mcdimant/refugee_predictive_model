{
 "cells": [
  {
   "cell_type": "code",
   "execution_count": 1,
   "id": "virgin-deputy",
   "metadata": {},
   "outputs": [],
   "source": [
    "import pandas as pd\n",
    "import numpy as np\n",
    "import matplotlib.pyplot as plt\n",
    "from os import listdir\n",
    "import geopy.distance\n",
    "from sklearn.ensemble import RandomForestRegressor\n",
    "from sklearn.model_selection import train_test_split\n",
    "from sklearn.metrics import confusion_matrix, precision_score, recall_score\n",
    "import seaborn as sns\n",
    "import datetime as dt\n",
    "#from plot_roc import plot_roc"
   ]
  },
  {
   "cell_type": "code",
   "execution_count": 2,
   "id": "random-paradise",
   "metadata": {},
   "outputs": [],
   "source": [
    "#read in and clean conflict data \n",
    "conflict_df = pd.read_csv('../data/conflict_data_irq.csv')\n",
    "conflict_df.drop(0, inplace=True)\n",
    "conflict_df['date_start'] = pd.to_datetime(conflict_df['date_start'])\n",
    "conflict_df['date_end'] = pd.to_datetime(conflict_df['date_start'])"
   ]
  },
  {
   "cell_type": "code",
   "execution_count": 3,
   "id": "passive-genre",
   "metadata": {},
   "outputs": [],
   "source": [
    "#creating dictionary to standardize governorate names across datasets\n",
    "governorate_dict = {'Al Anbār province':'Anbar', 'Nīnawá province':'Ninewa',\n",
    "'Baghdād province':'Baghdad','Dahūk province':'Dahuk', 'Diyālá province':'Diyala','Kirkūk province':'Kirkuk',\n",
    "'Şalāḩ ad Dīn province':'Salah al-Din', 'Karbalā’ province':'Kerbala', 'An Najaf province':'Najaf',\n",
    "'Bābil province':'Babylon','Arbīl province':'Erbil','Al Başrah  province':'Basrah','Dhī Qār province':'Thi-Qar',\n",
    "'Al Muthanná province':'Muthanna','As Sulaymānīyah province':'Sulaymaniyah', 'Maysān  province':'Missan',\n",
    "'Al Qādisīyah province':'Qadissiya', 'Wāsiţ province':'Wassit'}"
   ]
  },
  {
   "cell_type": "code",
   "execution_count": 4,
   "id": "temporal-surge",
   "metadata": {},
   "outputs": [],
   "source": [
    "conflict_df.replace(to_replace=governorate_dict, inplace=True)"
   ]
  },
  {
   "cell_type": "code",
   "execution_count": 5,
   "id": "potential-reset",
   "metadata": {},
   "outputs": [],
   "source": [
    "#creating dictionary to standardize district names across datasets\n",
    "district_dict = {'Abū Ghurayb district':'Abu Ghraib',\n",
    "'Al Ba‘āj district':\"Al-Ba'aj\",\n",
    "'Al Qā’im district':\"Al-Ka'im\",\n",
    "'Al-Faris district':'Al-Fares',\n",
    "'Hīt district':'Heet',\n",
    "'Qaḑā’ ‘Ānah':'Ana',\n",
    "'Qaḑā’ ad Dawr':'Al-Daur',\n",
    "'Qaḑā’ al Fallūjah':'Falluja',\n",
    "'Qaḑā’ al Ḩaḑr':'Hatra',\n",
    "'Qaḑā’ al Ḩamdānīyah':'Al-Hamdaniya',\n",
    "'Qaḑā’ al Khāliş':'Al-Khalis',\n",
    "'Qaḑā’ al Maḩmūdīyah':'Mahmoudiya',\n",
    "'Qaḑā’ al Mawşil':'Mosul',\n",
    "'Qaḑā’ al Miqdādīyah':'Al-Muqdadiya',\n",
    "'Qaḑā’ ar Ramādī':'Ramadi',\n",
    "'Qaḑā’ ar Ruţbah':'Al-Rutba',\n",
    "'Qaḑā’ ash Shaykhān':'Al-Shikhan',\n",
    "'Qaḑā’ Balad':'Balad',\n",
    "'Qaḑā’ Bayjī':'Baiji',\n",
    "'Qaḑā’ Haditha':'Haditha',\n",
    "'Qaḑā’ Khānaqīn':'Khanaqin',\n",
    "'Qaḑā’ Kifrī':'Kifri',\n",
    "'Qaḑā’ Sāmarrā':'Samarra',\n",
    "'Qaḑā’ Sharqāţ':'Al-Shirqat',\n",
    "'Qaḑā’ Tall ‘Afar':'Telafar',\n",
    "'Qaḑā’ Tikrīt':'Tikrit',\n",
    "'Qaḑā’ Zākhū':'Zakho',\n",
    "'Sinjār district':'Sinjar',\n",
    "'Tallkayf district':'Tilkaif',\n",
    "'Tooz district':'Tuz Khurmatu',\n",
    "'Zakho district':'Zakho',\n",
    "\"Al ‘Amādīyah\":'Amedi',\n",
    "\"Al ‘Amādīyah district\":'Amedi',\n",
    "\"Al ‘Azīzīyah district\":'Al-Azezia',\n",
    "\"Al Madā’in district\":'Al-Midaina',\n",
    "'Al Majar al Kabīr district':'Al-Mejar Al-Kabir',\n",
    "'Al Maymūnah district':'Al-Maimouna',\n",
    "'Al-Shirqat district':'Al-Shirqat',\n",
    "'Baladrūz district':'Baladrooz',\n",
    "'Dāqūq district':'Daquq',\n",
    "'Kuwaysinjaq district':'Koisnjaq',\n",
    "'Mergasur District':'Mergasur',\n",
    "'Paynjuwayn district':'Penjwin',\n",
    "\"Qaḑā al ‘Amārah\":'Amara',\n",
    "'Qaḑā al Chibāyish':'Al-Chibayish',\n",
    "'Qaḑā Karbalā’':'Kerbala',\n",
    "\"Qaḑā’ ‘Alī al Gharbī\":'Ali Al-Gharbi',\n",
    "'Qaḑā’ ad Dīwānīyah':'Diwaniya',\n",
    "'Qaḑā’ Ain Al Tamur':'Ain Al-Tamur',\n",
    "'Qaḑā’ al Başrah':'Basrah',\n",
    "'Qaḑā’ al Hāshimīyah':'Hashimiya',\n",
    "'Qaḑā’ al Ḩawījah':'Al-Hawiga',\n",
    "'Qaḑā’ al Ḩayy':'Al-Hai',\n",
    "'Qaḑā’ al Ḩillah':'Hilla',\n",
    "'Qaḑā’ al Hindīyah':'Al-Hindiya',\n",
    "'Qaḑā’ al Kūfah':'Kufa',\n",
    "'Qaḑā’ al Kūt':'Kut',\n",
    "'Qaḑā’ al Maḩāwīl':'Al-Mahawil',\n",
    "'Qaḑā’ al Manādhirah':'Al-Manathera',\n",
    "'Qaḑā’ al Musayyib':'Al-Musayab',\n",
    "'Qaḑā’ al Qurnah':'Al-Qurna',\n",
    "'Qaḑā’ an Najaf':'Najaf',\n",
    "'Qaḑā’ an Nāşirīyah':'Nassriya',\n",
    "'Qaḑā’ Arbīl':'Erbil',\n",
    "'Qaḑā’ as Samāwah':'Al-Samawa',\n",
    "'Qaḑā’ aş Şuwayrah':'Al-Suwaira',\n",
    "'Qaḑā’ ash Shāmīyah':'Al-Shamiya',\n",
    "'Qaḑā’ ash Shaţrah':'Al-Shatra',\n",
    "'Qaḑā’ az Zubayr':'Al-Zubair',\n",
    "\"Qaḑā’ Ba‘qūbah\":\"Ba'quba\",\n",
    "'Qaḑā’ Chamchamal':'Chamchamal',\n",
    "'Qaḑā’ Chomān':'Choman',\n",
    "'Qaḑā’ Dahūk':'Dahuk',\n",
    "'Qaḑā’ Dibis':'Dabes',\n",
    "'Qaḑā’ Ḩadīthah':'Haditha',\n",
    "'Qaḑā’ Ḩalabchah':'Halabja',\n",
    "'Qaḑā’ Kalār':'Kalar',\n",
    "'Qaḑā’ Kirkūk':'Kirkuk',\n",
    "'Qaḑā’ Makhmūr':'Makhmur',\n",
    "'Qaḑā’ Miqdādīyah':'Al-Muqdadiya',\n",
    "'Qaḑā’ Pishdar':'Pshdar',\n",
    "'Qaḑā’ Rāniyah':'Rania',\n",
    "'Qaḑā’ Shahrbāzār':'Sharbazher',\n",
    "'Qaḑā’ Shaqlāwah':'Shaqlawa',\n",
    "'Qaḑā’ Sulaymānīyah':'Sulaymaniya',\n",
    "'Qaḑā’ Sūq ash Shuyūkh':'Suq Al-Shoyokh',\n",
    "'Qaḑā’ Zākhū':'Zakho',\n",
    "'Soran district':'Soran'}"
   ]
  },
  {
   "cell_type": "code",
   "execution_count": 6,
   "id": "exotic-insurance",
   "metadata": {},
   "outputs": [],
   "source": [
    "conflict_df.replace(to_replace=district_dict, inplace=True)"
   ]
  },
  {
   "cell_type": "code",
   "execution_count": 7,
   "id": "standard-railway",
   "metadata": {},
   "outputs": [],
   "source": [
    "#filtering down conflict data so it only includes events in districts where displacement occurred \n",
    "conflict_df = conflict_df[conflict_df['adm_2'].isin(list(district_dict.values()))]\n"
   ]
  },
  {
   "cell_type": "code",
   "execution_count": 8,
   "id": "relevant-mounting",
   "metadata": {},
   "outputs": [
    {
     "name": "stdout",
     "output_type": "stream",
     "text": [
      "CPU times: user 3.33 s, sys: 742 ms, total: 4.07 s\n",
      "Wall time: 4.81 s\n"
     ]
    }
   ],
   "source": [
    "%%time\n",
    "#reads in data on outflow of refugees, concatenates into dataframe\n",
    "outflow_filepaths = [s for s in listdir(\"../data/out/\")]\n",
    "out_df = pd.concat((pd.read_csv(\"../data/out/\"+s) for s in outflow_filepaths), ignore_index=True) \n"
   ]
  },
  {
   "cell_type": "code",
   "execution_count": 9,
   "id": "urban-extra",
   "metadata": {},
   "outputs": [],
   "source": [
    "out_df.dropna(how='any', inplace=True)"
   ]
  },
  {
   "cell_type": "code",
   "execution_count": 10,
   "id": "western-startup",
   "metadata": {},
   "outputs": [],
   "source": [
    "#cleanup of data types \n",
    "out_df['date'] = pd.to_datetime(out_df['date'])\n",
    "out_df.rename(columns={'Location Name':'Location_name'}, inplace=True)\n",
    "out_df['Location ID'] = out_df['Location ID'].astype(int)\n",
    "out_df['Place ID'] = out_df['Place ID'].astype(int)\n",
    "out_df['Families'] = out_df['Families'].astype(int)\n",
    "out_df['Individuals'] = out_df['Individuals'].astype(int)\n",
    "out_df.rename(columns={'Place ID':'Place_ID'}, inplace=True)\n"
   ]
  },
  {
   "cell_type": "code",
   "execution_count": 11,
   "id": "cathedral-vermont",
   "metadata": {},
   "outputs": [],
   "source": [
    "#renaming columns so it's clear that refugees are DISPLACED FROM these governorates of origin\n",
    "out_df.rename(columns={'Anbar':'disp_from_Anbar', 'Babylon':'disp_from_Babylon', \n",
    "                       'Baghdad':'disp_from_Baghdad', 'Basrah':'disp_from_Basrah',\n",
    "                       'Dahuk':'disp_from_Dahuk','Diyala':'disp_from_Diyala',\n",
    "                       'Erbil':'disp_from_Erbil','Kerbala':'disp_from_Kerbala', \n",
    "                       'Kirkuk':'disp_from_Kirkuk', 'Missan':'disp_from_Missan', \n",
    "                       'Muthanna':'disp_from_Muthana','Najaf':'disp_from_Najaf', \n",
    "                       'Ninewa':'disp_from_Ninewa', 'Qadissiya':'disp_from_Qadissiya', \n",
    "                        'Salahal Din':'disp_from_Salahal Din', 'Sulaymaniyah':'disp_from_Sulaymaniyah', \n",
    "                       'Thi Qar':'disp_from_Thi Qar', 'Wassit':'disp_from_Wassit'}, inplace=True)"
   ]
  },
  {
   "cell_type": "code",
   "execution_count": 12,
   "id": "reserved-holmes",
   "metadata": {},
   "outputs": [],
   "source": [
    "#making clear that these features represent the living situation of refugees who have fled their homes\n",
    "out_df.rename(columns={'Camp':'out_Camp', 'Hostfamilies':'out_Hostfamilies', \n",
    "        'Hotel Motel':'out_Hotel Motel', 'Informalsettlements':'out_Informalsettlements',\n",
    "       'Own Property':'out_Own Property', 'Other':'out_Other', \n",
    "       'Religiousbuilding':'out_Religiousbuilding', 'Rented pre Apr 2019':'out_Rented pre Apr 2019',\n",
    "       'Rented Habitable': 'out_Rented Habitable', 'Rented Uninhabitable':'out_Rented Uninhabitable', \n",
    "       'Schoolbuilding':'out_Schoolbuilding','Unfinishedbuilding':'out_Unfinishedbuilding', \n",
    "        'Unknownsheltertype':'out_Unknownsheltertype'}, inplace=True)"
   ]
  },
  {
   "cell_type": "code",
   "execution_count": 13,
   "id": "legendary-horizontal",
   "metadata": {},
   "outputs": [
    {
     "name": "stdout",
     "output_type": "stream",
     "text": [
      "CPU times: user 1.29 s, sys: 266 ms, total: 1.56 s\n",
      "Wall time: 1.88 s\n"
     ]
    }
   ],
   "source": [
    "%%time\n",
    "#reads in data on returning refugees, concatenates into large dataframe \n",
    "returnee_filepaths = [f for f in listdir(\"../data/inflow/\")]\n",
    "ret_df = pd.concat((pd.read_csv(\"../data/inflow/\"+f)\n",
    "                  for f in returnee_filepaths), ignore_index=True)"
   ]
  },
  {
   "cell_type": "code",
   "execution_count": 14,
   "id": "surprising-recall",
   "metadata": {},
   "outputs": [],
   "source": [
    "#renaming features to clarify that refugees are returning to this type of shelter\n",
    "ret_df.rename(columns={'Camp':'ret_camp',\n",
    "       'Habitual Pre_31_October2018':'ret_Habitual Pre_31_October2018',\n",
    "      'Habitual Residence (Habitable)':'ret_Habitual Residence (Habitable)',\n",
    "       'Habitual Residence (Uninhabitable)':'ret_Habitual Residence (Uninhabitable)', \n",
    "       'Host_families':'ret_Host_families', 'Hotel_Motel':'ret_Hotel_Motel',\n",
    "       'Informal_settlements':'ret_Informal_settlements', \n",
    "       'Other':'ret_Other', 'Religious_building':'ret_Religious_building', \n",
    "       'Rented_houses':'ret_Rented_houses', 'School_building':'ret_School_building', \n",
    "       'Unfinished_Abandoned_building':'ret_Unfinished_Abandoned_building',\n",
    "       'Unknown_shelter_type':'ret_Unknown_shelter_type'}, inplace=True)"
   ]
  },
  {
   "cell_type": "code",
   "execution_count": 15,
   "id": "limited-mambo",
   "metadata": {},
   "outputs": [],
   "source": [
    "#renaming features to clarify that refugees are RETURNING (to their places of orogin)\n",
    "#FROM these governorates \n",
    "ret_df.rename(columns={'Anbar':'ret_from_Anbar', 'Babylon':'ret_from_Babylon',\n",
    "       'Baghdad':'ret_from_Baghdad', 'Basrah':'ret_from_Basrah', 'Dahuk':'ret_from_Dahuk',\n",
    "       'Diyala':'ret_from_Diyala', 'Erbil':'ret_from_Erbil', 'Kerbala':'ret_from_Kerbala', \n",
    "        'Kirkuk':'ret_from_Kirkuk','Missan':'ret_from_Missan', 'Muthanna':'ret_from_Muthanna',\n",
    "        'Najaf':'ret_from_Najaf', 'Ninewa':'ret_from_Ninewa', 'Qadissiya':'ret_from_Qadissiya', \n",
    "        'Salahal Din':'ret_from_Salahal Din'}, inplace=True)"
   ]
  },
  {
   "cell_type": "code",
   "execution_count": 16,
   "id": "honest-spokesman",
   "metadata": {},
   "outputs": [],
   "source": [
    "#creating dictionary to standardize naming convention for wave of displacement\n",
    "displacement_dict = {'Pre June14 Period of displacement':'disp_preJun14',\n",
    "                      'June July14 Period of displacement':'disp_JunJuly14',\n",
    "                      'August14 Period of displacement':'disp_Aug14',\n",
    "                      'Post September 14 Period of displacement':'disp_postSep14',\n",
    "                      'Post April15 Period of displacement':'disp_postApr15',\n",
    "                      'Post March 16 Period of displacement':'disp_postMar16',\n",
    "                      'Post 17 October 16 Period of displacement': 'disp_post17Oct16',\n",
    "                      'July 17 Period of displacement':'disp_Jul17',\n",
    "                      'Jan19':'disp_Jan19'}"
   ]
  },
  {
   "cell_type": "code",
   "execution_count": 17,
   "id": "rolled-sharing",
   "metadata": {},
   "outputs": [],
   "source": [
    "ret_df.rename(columns=displacement_dict, inplace=True)\n",
    "out_df.rename(columns=displacement_dict, inplace=True)"
   ]
  },
  {
   "cell_type": "code",
   "execution_count": 18,
   "id": "geological-pontiac",
   "metadata": {},
   "outputs": [],
   "source": [
    "ret_df.dropna(how='all', inplace=True)\n",
    "ret_df['date'] = pd.to_datetime(ret_df['date'])"
   ]
  },
  {
   "cell_type": "code",
   "execution_count": 19,
   "id": "inside-jurisdiction",
   "metadata": {},
   "outputs": [],
   "source": [
    "def trim_all_columns(df):\n",
    "    \"\"\"\n",
    "    Trim whitespace from ends of each value across all series in dataframe\n",
    "    \"\"\"\n",
    "    trim_strings = lambda x: x.strip() if isinstance(x, str) else x\n",
    "    return df.applymap(trim_strings)\n",
    "\n"
   ]
  },
  {
   "cell_type": "code",
   "execution_count": 20,
   "id": "powerful-allowance",
   "metadata": {},
   "outputs": [],
   "source": [
    "ret_df = trim_all_columns(ret_df)\n",
    "out_df = trim_all_columns(out_df)"
   ]
  },
  {
   "cell_type": "code",
   "execution_count": 21,
   "id": "equal-hospital",
   "metadata": {},
   "outputs": [],
   "source": [
    "#Returnee data is cumulative, so it's necessary to get the delta by date (i.e., on 1OCT2015, 25\n",
    "#households were [freshly] displaced, rather than as of 1OCT2015 100 households have been displaced )\n",
    "ret_df.sort_values(['Location ID', 'date'], inplace=True)\n",
    "ret_df.dropna(how='any', inplace=True)\n",
    "ret_df['ret_delta'] = ret_df.groupby(['Location ID'])['Returnee Families'].transform(lambda x: x.diff()) \n",
    "\n"
   ]
  },
  {
   "cell_type": "code",
   "execution_count": 22,
   "id": "thermal-primary",
   "metadata": {},
   "outputs": [],
   "source": [
    "ret_df.sort_values(['Location ID', 'date'], inplace=True)\n",
    "ret_df.reset_index(inplace=True)\n",
    "ret_df.drop(columns='index', axis=1, inplace=True)"
   ]
  },
  {
   "cell_type": "code",
   "execution_count": 23,
   "id": "sunset-bahamas",
   "metadata": {},
   "outputs": [],
   "source": [
    "#should be functionized \n",
    "for i in range(len(ret_df)):\n",
    "    if np.isnan(ret_df.at[i, 'ret_delta']):\n",
    "        ret_df.at[i, 'ret_delta'] = ret_df.at[i, 'Returnee Families']\n",
    "    else:\n",
    "        None"
   ]
  },
  {
   "cell_type": "code",
   "execution_count": 24,
   "id": "certain-silicon",
   "metadata": {},
   "outputs": [],
   "source": [
    "\n",
    "#Displacement data is cumulative, so it's necessary to get the delta by date (i.e., on 1OCT2015, 25\n",
    "#households were [freshly] displaced, rather than as of 1OCT2015 100 households have been displaced )\n",
    "out_df.sort_values(['Location ID', 'date'], inplace=True)\n",
    "out_df.dropna(how='any', inplace=True)\n",
    "out_df['out_delta'] = out_df.groupby(['Location ID'])['Families'].transform(lambda x: x.diff()) \n",
    "\n",
    "\n",
    "\n"
   ]
  },
  {
   "cell_type": "code",
   "execution_count": 25,
   "id": "unexpected-comparison",
   "metadata": {},
   "outputs": [],
   "source": [
    "out_df.sort_values(['Location ID', 'date'], inplace=True)\n",
    "out_df.reset_index(inplace=True)\n",
    "out_df.drop(columns='index', axis=1, inplace=True)"
   ]
  },
  {
   "cell_type": "code",
   "execution_count": 26,
   "id": "egyptian-treasurer",
   "metadata": {},
   "outputs": [],
   "source": [
    "for i in range(len(out_df)):\n",
    "    if np.isnan(out_df.at[i, 'out_delta']):\n",
    "        out_df.at[i, 'out_delta'] = out_df.at[i, 'Families']\n",
    "    else:\n",
    "        None"
   ]
  },
  {
   "cell_type": "code",
   "execution_count": 27,
   "id": "computational-context",
   "metadata": {},
   "outputs": [],
   "source": [
    "master_df = ret_df.merge(out_df, how='outer', on=['Location ID', 'date', 'Governorate',\n",
    "                                                 'District', 'Place_ID', 'Location_name',\n",
    "                                                 'disp_preJun14', 'disp_JunJuly14', 'disp_Aug14', \n",
    "                                                'disp_postSep14', 'disp_postApr15',\n",
    "                                                'disp_postMar16', 'disp_post17Oct16', \n",
    "                                                  'disp_Jul17', 'disp_Jan19'])"
   ]
  },
  {
   "cell_type": "code",
   "execution_count": 28,
   "id": "official-idaho",
   "metadata": {},
   "outputs": [],
   "source": [
    "master_df.rename(columns={'Families':'displaced_to', 'ret_delta':'returned_to'}, inplace=True)"
   ]
  },
  {
   "cell_type": "code",
   "execution_count": 29,
   "id": "private-haiti",
   "metadata": {},
   "outputs": [],
   "source": [
    "#dropping irrelevant columns and those that would imply leakage from the test data\n",
    "master_df.drop(columns=['Unnamed: 0_x', 'Latitude_x', 'Longitude_x', 'Latitude_y', 'Longitude_y',\n",
    "                       'Unnamed: 0_y', 'Arabic_name', 'Governorate',\n",
    "                        'Location_name', 'Returnee Individuals', 'Returnee Families',\n",
    "                        'Arabic Name', 'ret_from_Anbar', 'ret_from_Babylon', 'ret_from_Baghdad',\n",
    "       'ret_from_Basrah', 'ret_from_Dahuk', 'ret_from_Diyala', 'ret_from_Erbil',\n",
    "       'ret_from_Kerbala', 'ret_from_Kirkuk', 'ret_from_Missan', 'ret_from_Muthanna',\n",
    "       'ret_from_Najaf', 'ret_from_Ninewa', 'ret_from_Qadissiya', 'ret_from_Salahal Din',\n",
    "    'ret_camp', 'Individuals',\n",
    "       'ret_Habitual Pre_31_October2018', 'ret_Habitual Residence (Habitable)',\n",
    "       'ret_Habitual Residence (Uninhabitable)', 'ret_Host_families',\n",
    "       'ret_Hotel_Motel', 'ret_Informal_settlements', 'ret_Other',\n",
    "       'ret_Religious_building', 'ret_Rented_houses', 'ret_School_building', 'Place_ID',\n",
    "       'ret_Unfinished_Abandoned_building', 'ret_Unknown_shelter_type', 'Location ID', \n",
    "                       'Sulaymaniyah', 'Thi Qar', 'Wassit'], inplace=True)"
   ]
  },
  {
   "cell_type": "code",
   "execution_count": 30,
   "id": "gorgeous-final",
   "metadata": {},
   "outputs": [
    {
     "data": {
      "text/plain": [
       "Index(['District', 'disp_preJun14', 'disp_JunJuly14', 'disp_Aug14',\n",
       "       'disp_postSep14', 'disp_postApr15', 'disp_postMar16',\n",
       "       'disp_post17Oct16', 'disp_Jul17', 'disp_Jan19', 'date', 'returned_to',\n",
       "       'displaced_to', 'disp_from_Anbar', 'disp_from_Babylon',\n",
       "       'disp_from_Baghdad', 'disp_from_Basrah', 'disp_from_Dahuk',\n",
       "       'disp_from_Diyala', 'disp_from_Erbil', 'disp_from_Kerbala',\n",
       "       'disp_from_Kirkuk', 'disp_from_Missan', 'disp_from_Muthana',\n",
       "       'disp_from_Najaf', 'disp_from_Ninewa', 'disp_from_Qadissiya',\n",
       "       'disp_from_Salahal Din', 'disp_from_Sulaymaniyah', 'disp_from_Thi Qar',\n",
       "       'disp_from_Wassit', 'out_Camp', 'out_Hostfamilies', 'out_Hotel Motel',\n",
       "       'out_Informalsettlements', 'out_Own Property', 'out_Other',\n",
       "       'out_Religiousbuilding', 'out_Rented pre Apr 2019',\n",
       "       'out_Rented Habitable', 'out_Rented Uninhabitable',\n",
       "       'out_Schoolbuilding', 'out_Unfinishedbuilding',\n",
       "       'out_Unknownsheltertype', 'out_delta'],\n",
       "      dtype='object')"
      ]
     },
     "execution_count": 30,
     "metadata": {},
     "output_type": "execute_result"
    }
   ],
   "source": [
    "master_df.columns"
   ]
  },
  {
   "cell_type": "code",
   "execution_count": 32,
   "id": "sunrise-beaver",
   "metadata": {},
   "outputs": [],
   "source": [
    "#making date ordinal so it can fit into the X dataset for ML algorithms \n",
    "master_df['date'] = master_df['date'].apply(lambda x: x.toordinal())\n",
    "master_df.fillna(0, inplace=True)"
   ]
  },
  {
   "cell_type": "code",
   "execution_count": 33,
   "id": "canadian-split",
   "metadata": {},
   "outputs": [],
   "source": [
    "#Groups conflict data by district and date and sums the best estimate of deaths (for that district)\n",
    "#and date. Returns dataframe. \n",
    "g_conflict = pd.DataFrame({'count' : conflict_df.groupby( [ 'adm_2', 'date_start'])\n",
    "                           ['best'].sum()}).reset_index()"
   ]
  },
  {
   "cell_type": "code",
   "execution_count": 34,
   "id": "rapid-liechtenstein",
   "metadata": {},
   "outputs": [],
   "source": [
    "#Makes date_start ordinal for algorithmic processing, renames columns \n",
    "g_conflict['date_start'] = g_conflict['date_start'].apply(lambda x: x.toordinal())\n",
    "g_conflict.rename(columns={'adm_2':'District', 'date_start':'date', 'count':'death_est'}, \n",
    "                 inplace=True)"
   ]
  },
  {
   "cell_type": "code",
   "execution_count": 35,
   "id": "pregnant-notion",
   "metadata": {},
   "outputs": [],
   "source": [
    "#filters down g_conflict so it matches timeframe of master_df\n",
    "g_conflict = g_conflict[g_conflict['date'] > min(master_df['date'])]"
   ]
  },
  {
   "cell_type": "code",
   "execution_count": 36,
   "id": "assured-overhead",
   "metadata": {},
   "outputs": [],
   "source": [
    "master_df = master_df.merge(g_conflict, how='left', on=['date', 'District'])\n"
   ]
  },
  {
   "cell_type": "code",
   "execution_count": 37,
   "id": "religious-authorization",
   "metadata": {},
   "outputs": [],
   "source": [
    "master_df = master_df.fillna(0)\n",
    "master_df.drop(columns=['District'], inplace=True)"
   ]
  },
  {
   "cell_type": "code",
   "execution_count": 38,
   "id": "flexible-average",
   "metadata": {},
   "outputs": [],
   "source": [
    "#setting up X and y for supervised learning algorithms \n",
    "X = master_df.drop(columns=['returned_to'])\n",
    "y = master_df['returned_to']\n",
    "X_train, X_test, y_train, y_test = train_test_split(X, y)"
   ]
  },
  {
   "cell_type": "code",
   "execution_count": 44,
   "id": "authorized-barrel",
   "metadata": {},
   "outputs": [
    {
     "name": "stdout",
     "output_type": "stream",
     "text": [
      "CPU times: user 31.6 s, sys: 1.19 s, total: 32.8 s\n",
      "Wall time: 35.7 s\n"
     ]
    },
    {
     "data": {
      "text/plain": [
       "RandomForestRegressor(max_features=25, oob_score=True, random_state=1)"
      ]
     },
     "execution_count": 44,
     "metadata": {},
     "output_type": "execute_result"
    }
   ],
   "source": [
    "%%time\n",
    "rf = RandomForestRegressor(n_estimators=100, max_features=25, random_state=1, oob_score=True)\n",
    "rf.fit(X_train, y_train)"
   ]
  },
  {
   "cell_type": "code",
   "execution_count": 45,
   "id": "permanent-empty",
   "metadata": {},
   "outputs": [
    {
     "name": "stdout",
     "output_type": "stream",
     "text": [
      "RF score: 0.8263994401270368\n",
      "OOB score 0.8476183198462051\n"
     ]
    }
   ],
   "source": [
    "print(\"RF score:\", rf.score(X_test, y_test))\n",
    "print(\"OOB score\", rf.oob_score_)"
   ]
  },
  {
   "cell_type": "code",
   "execution_count": null,
   "id": "textile-copyright",
   "metadata": {},
   "outputs": [],
   "source": [
    "%%time\n",
    "num_trees = range(5, 100, 5)\n",
    "accuracies = []\n",
    "for n in num_trees:\n",
    "    tot = 0\n",
    "    for i in range(5):\n",
    "        rf = RandomForestRegressor(n_estimators=n)\n",
    "        rf.fit(X_train, y_train)\n",
    "        tot += rf.score(X_test, y_test)\n",
    "    accuracies.append(tot / 5)\n",
    "    \n",
    "fig, ax = plt.subplots(figsize=(8, 6))\n",
    "ax.plot(num_trees, accuracies)\n",
    "ax.set_xlabel(\"Number of Trees\")\n",
    "ax.set_ylabel(\"RF Regressor Score\")\n",
    "ax.set_title('RF Regressor Score vs. Num Trees')\n",
    "plt.savefig('../images/numtrees_vs_score.png')"
   ]
  },
  {
   "cell_type": "code",
   "execution_count": null,
   "id": "seasonal-gateway",
   "metadata": {},
   "outputs": [],
   "source": [
    "%%time\n",
    "num_features = range(1, len(X.columns) + 1)\n",
    "accuracies = []\n",
    "for n in num_features:\n",
    "    tot = 0\n",
    "    for i in range(5):\n",
    "        rf = RandomForestRegressor(max_features=n)\n",
    "        rf.fit(X_train, y_train)\n",
    "        tot += rf.score(X_test, y_test)\n",
    "        print('done with {a} of 5 of round {b}'.format(i=i, n=n))\n",
    "    accuracies.append(tot / 5)\n",
    "fig, ax = plt.subplots(figsize=(8, 6))\n",
    "ax.plot(num_features, accuracies)\n",
    "ax.set_xlabel(\"Number of Features\")\n",
    "ax.set_ylabel(\"Score\")\n",
    "ax.set_title('Score vs. Num Features')\n",
    "plt.savefig('../images/features_vs_score.png')"
   ]
  },
  {
   "cell_type": "code",
   "execution_count": null,
   "id": "continent-dream",
   "metadata": {},
   "outputs": [],
   "source": [
    "master_df['date'] = master_df['date'].apply(dt.datetime.fromordinal)\n",
    "\n"
   ]
  },
  {
   "cell_type": "code",
   "execution_count": 43,
   "id": "sunrise-xerox",
   "metadata": {},
   "outputs": [
    {
     "name": "stdout",
     "output_type": "stream",
     "text": [
      " Feature ranking:\n",
      "1. date (0.319146)\n",
      "2. disp_post17Oct16 (0.161235)\n",
      "3. disp_preJun14 (0.105145)\n",
      "4. disp_Aug14 (0.096495)\n",
      "5. disp_postApr15 (0.075410)\n",
      "6. disp_Jul17 (0.070907)\n",
      "7. disp_JunJuly14 (0.053840)\n",
      "8. disp_postSep14 (0.037622)\n",
      "9. disp_postMar16 (0.031256)\n",
      "10. disp_Jan19 (0.000025)\n"
     ]
    },
    {
     "data": {
      "image/png": "[encoded data removed]",
      "text/plain": [
       "<Figure size 576x432 with 1 Axes>"
      ]
     },
     "metadata": {
      "needs_background": "light"
     },
     "output_type": "display_data"
    }
   ],
   "source": [
    "\n",
    "n = 10 # top 10 features\n",
    "\n",
    "#importances = forest_fit.feature_importances_[:n]\n",
    "importances = rf.feature_importances_[:n]\n",
    "std = np.std([tree.feature_importances_ for tree in rf.estimators_],\n",
    "             axis=0)\n",
    "indices = np.argsort(importances)[::-1]\n",
    "features = list(master_df.columns[indices])\n",
    "\n",
    "# Print the feature ranking\n",
    "print(\" Feature ranking:\")\n",
    "\n",
    "for f in range(n):\n",
    "    print(\"%d. %s (%f)\" % (f + 1, features[f], importances[indices[f]]))\n",
    "\n",
    "# Plot the feature importances of the forest\n",
    "fig, ax = plt.subplots(figsize=(8, 6))\n",
    "\n",
    "ax.bar(range(10), importances[indices], yerr=std[indices], color=\"r\", align=\"center\")\n",
    "ax.set_xticks(range(10))\n",
    "ax.set_xticklabels(features, rotation = 90)\n",
    "ax.set_xlim([-1, 10])\n",
    "ax.set_xlabel(\"Importance\")\n",
    "ax.set_title(\"Feature Importances\")\n",
    "plt.savefig('../images/feature_importances.png')"
   ]
  },
  {
   "cell_type": "code",
   "execution_count": null,
   "id": "structural-development",
   "metadata": {},
   "outputs": [],
   "source": []
  }
 ],
 "metadata": {
  "kernelspec": {
   "display_name": "Python 3",
   "language": "python",
   "name": "python3"
  },
  "language_info": {
   "codemirror_mode": {
    "name": "ipython",
    "version": 3
   },
   "file_extension": ".py",
   "mimetype": "text/x-python",
   "name": "python",
   "nbconvert_exporter": "python",
   "pygments_lexer": "ipython3",
   "version": "3.9.1"
  }
 },
 "nbformat": 4,
 "nbformat_minor": 5
}
