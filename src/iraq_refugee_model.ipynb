{
 "cells": [
  {
   "cell_type": "code",
   "execution_count": 63,
   "id": "destroyed-advantage",
   "metadata": {},
   "outputs": [],
   "source": [
    "import pandas as pd\n",
    "import numpy as np\n",
    "import matplotlib.pyplot as plt\n",
    "from os import listdir\n",
    "\n"
   ]
  },
  {
   "cell_type": "code",
   "execution_count": 52,
   "id": "lonely-prefix",
   "metadata": {},
   "outputs": [],
   "source": [
    "filepaths = [f for f in listdir(\"../data\") if f.endswith('.xlsx')]\n"
   ]
  },
  {
   "cell_type": "code",
   "execution_count": 53,
   "id": "victorian-shepherd",
   "metadata": {
    "collapsed": true
   },
   "outputs": [
    {
     "data": {
      "text/plain": [
       "['Returnee_MasterList_dataset_DTM_IOMJan 05, 2017.xlsx',\n",
       " 'Returnee_MasterList_dataset_DTM_IOMAug 31, 2019.xlsx',\n",
       " 'Returnee_MasterList_dataset_DTM_IOMMay 12, 2016.xlsx',\n",
       " 'Returnee_MasterList_dataset_DTM_IOMJan 19, 2017.xlsx',\n",
       " 'Returnee_MasterList_dataset_DTM_IOMOct 31, 2018.xlsx',\n",
       " 'Returnee_MasterList_dataset_DTM_IOMApr 10, 2015.xlsx',\n",
       " 'Returnee_MasterList_dataset_DTM_IOMJan 31, 2018.xlsx',\n",
       " 'Returnee_MasterList_dataset_DTM_IOMFeb 16, 2017.xlsx',\n",
       " 'Returnee_MasterList_dataset_DTM_IOMMar 02, 2017.xlsx',\n",
       " 'Returnee_MasterList_dataset_DTM_IOMFeb 29, 2020.xlsx',\n",
       " 'Returnee_MasterList_dataset_DTM_IOMApr 15, 2018.xlsx',\n",
       " 'Returnee_MasterList_dataset_DTM_IOMApr 29, 2020.xlsx',\n",
       " 'Returnee_MasterList_dataset_DTM_IOMFeb 15, 2018.xlsx',\n",
       " 'Returnee_MasterList_dataset_DTM_IOMNov 05, 2015.xlsx',\n",
       " 'Returnee_MasterList_dataset_DTM_IOMJul 31, 2018.xlsx',\n",
       " 'Returnee_MasterList_dataset_DTM_IOMSep 30, 2017.xlsx',\n",
       " 'Returnee_MasterList_dataset_DTM_IOMMar 30, 2017.xlsx',\n",
       " 'Returnee_MasterList_dataset_DTM_IOMNov 19, 2015.xlsx',\n",
       " 'Returnee_MasterList_dataset_DTM_IOMSep 10, 2015.xlsx',\n",
       " 'Returnee_MasterList_dataset_DTM_IOMMar 02, 2016.xlsx',\n",
       " 'Returnee_MasterList_dataset_DTM_IOMApr 13, 2017.xlsx',\n",
       " 'Returnee_MasterList_dataset_DTM_IOMSep 15, 2018.xlsx',\n",
       " 'Returnee_MasterList_dataset_DTM_IOMOct 31, 2019.xlsx',\n",
       " 'Returnee_MasterList_dataset_DTM_IOMMar 15, 2018.xlsx',\n",
       " 'Returnee_MasterList_dataset_DTM_IOMFeb 02, 2017.xlsx',\n",
       " 'Returnee_MasterList_dataset_DTM_IOMMar 16, 2017.xlsx',\n",
       " 'Returnee_MasterList_dataset_DTM_IOMAug 31, 2018.xlsx',\n",
       " 'Returnee_MasterList_dataset_DTM_IOMMay 15, 2017.xlsx',\n",
       " 'Returnee_MasterList_dataset_DTM_IOMApr 25, 2015.xlsx',\n",
       " 'Returnee_MasterList_dataset_DTM_IOMDec 08, 2016.xlsx',\n",
       " 'Returnee_MasterList_dataset_DTM_IOMJun 15, 2017.xlsx',\n",
       " 'Returnee_MasterList_dataset_DTM_IOMFeb 28, 2019.xlsx',\n",
       " 'Returnee_MasterList_dataset_DTM_IOMDec 31, 2019.xlsx',\n",
       " 'Returnee_MasterList_dataset_DTM_IOMNov 15, 2017.xlsx',\n",
       " 'Returnee_MasterList_dataset_DTM_IOMJun 30, 2018.xlsx',\n",
       " 'Returnee_MasterList_dataset_DTM_IOMJan 15, 2018.xlsx',\n",
       " 'Returnee_MasterList_dataset_DTM_IOMOct 13, 2016.xlsx',\n",
       " 'Returnee_MasterList_dataset_DTM_IOMOct 15, 2018.xlsx',\n",
       " 'Returnee_MasterList_dataset_DTM_IOMDec 17, 2015.xlsx',\n",
       " 'Returnee_MasterList_dataset_DTM_IOMNov 09, 2016.xlsx',\n",
       " 'Returnee_MasterList_dataset_DTM_IOMMay 21, 2015.xlsx',\n",
       " 'Returnee_MasterList_dataset_DTM_IOMJul 30, 2017.xlsx',\n",
       " 'Returnee_MasterList_dataset_DTM_IOMJun 30, 2019.xlsx',\n",
       " 'Returnee_MasterList_dataset_DTM_IOMJan 21, 2016.xlsx',\n",
       " 'Returnee_MasterList_dataset_DTM_IOMAug 15, 2018.xlsx',\n",
       " 'Returnee_MasterList_dataset_DTM_IOMApr 14, 2016.xlsx',\n",
       " 'Returnee_MasterList_dataset_DTM_IOMDec 31, 2018.xlsx',\n",
       " 'Returnee_MasterList_dataset_DTM_IOMAug 27, 2015.xlsx',\n",
       " 'Returnee_MasterList_dataset_DTM_IOMOct 22, 2015.xlsx',\n",
       " 'Returnee_MasterList_dataset_DTM_IOMFeb 28, 2018.xlsx',\n",
       " 'Returnee_MasterList_dataset_DTM_IOMJun 22, 2016.xlsx',\n",
       " 'Returnee_MasterList_dataset_DTM_IOMDec 03, 2015.xlsx',\n",
       " 'Returnee_MasterList_dataset_DTM_IOMJul 15, 2018.xlsx',\n",
       " 'Returnee_MasterList_dataset_DTM_IOMJan 07, 2016.xlsx',\n",
       " 'Returnee_MasterList_dataset_DTM_IOMAug 30, 2017.xlsx',\n",
       " 'Returnee_MasterList_dataset_DTM_IOMMay 07, 2015.xlsx',\n",
       " 'Returnee_MasterList_dataset_DTM_IOMJul 13, 2015.xlsx',\n",
       " 'Returnee_MasterList_dataset_DTM_IOMSep 28, 2016.xlsx',\n",
       " 'Returnee_MasterList_dataset_DTM_IOMJun 22, 2015.xlsx',\n",
       " 'Returnee_MasterList_dataset_DTM_IOMFeb 17, 2016.xlsx',\n",
       " 'Returnee_MasterList_dataset_DTM_IOMAug 15, 2017.xlsx',\n",
       " 'Returnee_MasterList_dataset_DTM_IOMFeb 28, 2021.xlsx',\n",
       " 'Returnee_MasterList_dataset_DTM_IOMDec 31, 2017.xlsx',\n",
       " 'Returnee_MasterList_dataset_DTM_IOMJul 15, 2017.xlsx',\n",
       " 'Returnee_MasterList_dataset_DTM_IOMJun 04, 2015.xlsx',\n",
       " 'Returnee_MasterList_dataset_DTM_IOMNov 29, 2017.xlsx',\n",
       " 'Returnee_MasterList_dataset_DTM_IOMJun 30, 2020.xlsx',\n",
       " 'Returnee_MasterList_dataset_DTM_IOMAug 13, 2015.xlsx',\n",
       " 'Returnee_MasterList_dataset_DTM_IOMJul 02, 2015.xlsx',\n",
       " 'Returnee_MasterList_dataset_DTM_IOMMay 15, 2018.xlsx',\n",
       " 'Returnee_MasterList_dataset_DTM_IOMApr 28, 2016.xlsx',\n",
       " 'Returnee_MasterList_dataset_DTM_IOMMar 17, 2016.xlsx',\n",
       " 'Returnee_MasterList_dataset_DTM_IOMJul 22, 2016.xlsx',\n",
       " 'Returnee_MasterList_dataset_DTM_IOMJul 30, 2015.xlsx',\n",
       " 'Returnee_MasterList_dataset_DTM_IOMDec 31, 2020.xlsx',\n",
       " 'Returnee_MasterList_dataset_DTM_IOMJun 15, 2018.xlsx',\n",
       " 'Returnee_MasterList_dataset_DTM_IOMNov 24, 2016.xlsx',\n",
       " 'Returnee_MasterList_dataset_DTM_IOMMay 30, 2017.xlsx',\n",
       " 'Returnee_MasterList_dataset_DTM_IOMOct 27, 2016.xlsx',\n",
       " 'Returnee_MasterList_dataset_DTM_IOMJun 30, 2017.xlsx',\n",
       " 'Returnee_MasterList_dataset_DTM_IOMOct 15, 2017.xlsx',\n",
       " 'Returnee_MasterList_dataset_DTM_IOMMar 31, 2016.xlsx',\n",
       " 'Returnee_MasterList_dataset_DTM_IOMSep 30, 2018.xlsx',\n",
       " 'Returnee_MasterList_dataset_DTM_IOMApr 27, 2017.xlsx',\n",
       " 'Returnee_MasterList_dataset_DTM_IOMSep 01, 2016.xlsx',\n",
       " 'Returnee_MasterList_dataset_DTM_IOMMar 30, 2018.xlsx',\n",
       " 'Returnee_MasterList_dataset_DTM_IOMJul 03, 2016.xlsx',\n",
       " 'Returnee_MasterList_dataset_DTM_IOMOct 31, 2020.xlsx',\n",
       " 'Returnee_MasterList_dataset_DTM_IOMSep 29, 2015.xlsx',\n",
       " 'Returnee_MasterList_dataset_DTM_IOMSep 15, 2017.xlsx',\n",
       " 'Returnee_MasterList_dataset_DTM_IOMAug 03, 2016.xlsx',\n",
       " 'Returnee_MasterList_dataset_DTM_IOMJun 08, 2016.xlsx',\n",
       " 'Returnee_MasterList_dataset_DTM_IOMDec 15, 2017.xlsx',\n",
       " 'Returnee_MasterList_dataset_DTM_IOMApr 30, 2019.xlsx',\n",
       " 'Returnee_MasterList_dataset_DTM_IOMFeb 04, 2016.xlsx',\n",
       " 'Returnee_MasterList_dataset_DTM_IOMApr 30, 2018.xlsx',\n",
       " 'Returnee_MasterList_dataset_DTM_IOMDec 22, 2016.xlsx',\n",
       " 'Returnee_MasterList_dataset_DTM_IOMOct 31, 2017.xlsx',\n",
       " 'Returnee_MasterList_dataset_DTM_IOMMay 26, 2016.xlsx',\n",
       " 'Returnee_MasterList_dataset_DTM_IOMSep 15, 2016.xlsx',\n",
       " 'Returnee_MasterList_dataset_DTM_IOMMay 31, 2018.xlsx',\n",
       " 'Returnee_MasterList_dataset_DTM_IOMAug 31, 2020.xlsx',\n",
       " 'Returnee_MasterList_dataset_DTM_IOMAug 17, 2016.xlsx']"
      ]
     },
     "execution_count": 53,
     "metadata": {},
     "output_type": "execute_result"
    }
   ],
   "source": [
    "filepaths"
   ]
  },
  {
   "cell_type": "code",
   "execution_count": 61,
   "id": "sitting-georgia",
   "metadata": {},
   "outputs": [],
   "source": [
    "df = pd.concat((pd.read_excel(\"../data/\"+f).assign(date=f[35:47]) for f in filepaths))"
   ]
  },
  {
   "cell_type": "code",
   "execution_count": 73,
   "id": "minor-parks",
   "metadata": {},
   "outputs": [],
   "source": [
    "df['date'] = pd.to_datetime(df['date'])"
   ]
  },
  {
   "cell_type": "code",
   "execution_count": null,
   "id": "abstract-latin",
   "metadata": {},
   "outputs": [],
   "source": []
  },
  {
   "cell_type": "code",
   "execution_count": null,
   "id": "second-medium",
   "metadata": {},
   "outputs": [],
   "source": []
  }
 ],
 "metadata": {
  "kernelspec": {
   "display_name": "Python 3",
   "language": "python",
   "name": "python3"
  },
  "language_info": {
   "codemirror_mode": {
    "name": "ipython",
    "version": 3
   },
   "file_extension": ".py",
   "mimetype": "text/x-python",
   "name": "python",
   "nbconvert_exporter": "python",
   "pygments_lexer": "ipython3",
   "version": "3.9.1"
  }
 },
 "nbformat": 4,
 "nbformat_minor": 5
}
